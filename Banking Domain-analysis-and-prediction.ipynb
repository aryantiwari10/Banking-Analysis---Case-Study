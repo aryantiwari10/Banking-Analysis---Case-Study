{
 "cells": [
  {
   "cell_type": "markdown",
   "metadata": {
    "_cell_guid": "79c7e3d0-c299-4dcb-8224-4455121ee9b0",
    "_uuid": "d629ff2d2480ee46fbb7e2d37f6b5fab8052498a",
    "execution": {
     "iopub.execute_input": "2022-01-30T10:45:24.914058Z",
     "iopub.status.busy": "2022-01-30T10:45:24.913541Z",
     "iopub.status.idle": "2022-01-30T10:45:26.280888Z",
     "shell.execute_reply": "2022-01-30T10:45:26.279985Z",
     "shell.execute_reply.started": "2022-01-30T10:45:24.914025Z"
    },
    "papermill": {
     "duration": 0.032627,
     "end_time": "2022-01-30T13:07:27.476919",
     "exception": false,
     "start_time": "2022-01-30T13:07:27.444292",
     "status": "completed"
    },
    "tags": []
   },
   "source": [
    "# Banking Domain - Marketing Targets - Analysis and Predictions"
   ]
  },
  {
   "cell_type": "markdown",
   "metadata": {
    "papermill": {
     "duration": 0.030258,
     "end_time": "2022-01-30T13:07:27.538008",
     "exception": false,
     "start_time": "2022-01-30T13:07:27.507750",
     "status": "completed"
    },
    "tags": []
   },
   "source": [
    "**The use of Robot Process Automation (RPA) technology seems to be the most straightforward answer, especially since the technology has become a universal enabler in banks these days. RPA is best described as a business process tool to automate manual, intensive, repetitive and rule-based tasks.\n",
    "RPA in finance can be defined as the use of robotic applications to augment (or replace) human efforts in the financial sector. RPA helps banks and accounting departments automate repetitive manual processes, allowing the employees to focus on more critical tasks and the firm to gain a competitive advantage. Branch automation allows for centralized customer service that can easily pull customer records from any bank branch. Due to ease of record retrieval, other tasks are also made more efficient, such as new account or loan applications and some teller services.**\n",
    "\n"
   ]
  },
  {
   "cell_type": "markdown",
   "metadata": {
    "papermill": {
     "duration": 0.031205,
     "end_time": "2022-01-30T13:07:27.599941",
     "exception": false,
     "start_time": "2022-01-30T13:07:27.568736",
     "status": "completed"
    },
    "tags": []
   },
   "source": [
    "![](https://kissflow.com/wp-content/uploads/2019/02/manual-process-vs-automation-process.png)"
   ]
  },
  {
   "cell_type": "markdown",
   "metadata": {
    "papermill": {
     "duration": 0.030472,
     "end_time": "2022-01-30T13:07:27.661028",
     "exception": false,
     "start_time": "2022-01-30T13:07:27.630556",
     "status": "completed"
    },
    "tags": []
   },
   "source": [
    "# Importing Neccesary Libraries"
   ]
  },
  {
   "cell_type": "code",
   "execution_count": 1,
   "metadata": {
    "execution": {
     "iopub.execute_input": "2022-01-30T13:07:27.726612Z",
     "iopub.status.busy": "2022-01-30T13:07:27.725656Z",
     "iopub.status.idle": "2022-01-30T13:07:28.810705Z",
     "shell.execute_reply": "2022-01-30T13:07:28.810040Z",
     "shell.execute_reply.started": "2022-01-30T13:07:05.015863Z"
    },
    "papermill": {
     "duration": 1.118858,
     "end_time": "2022-01-30T13:07:28.810825",
     "exception": false,
     "start_time": "2022-01-30T13:07:27.691967",
     "status": "completed"
    },
    "tags": []
   },
   "outputs": [],
   "source": [
    "import numpy as np\n",
    "import pandas as pd\n",
    "import matplotlib.pyplot as plt\n",
    "import seaborn as sns\n",
    "import os\n",
    "import scipy as sp\n",
    "import warnings\n",
    "from sklearn.preprocessing import MinMaxScaler\n",
    "from sklearn.model_selection import train_test_split\n",
    "from sklearn.linear_model import LogisticRegression\n",
    "from sklearn.svm import SVC\n",
    "from sklearn.metrics import confusion_matrix, accuracy_score, classification_report\n",
    "import datetime\n",
    "warnings.filterwarnings(\"ignore\")\n",
    "%matplotlib inline"
   ]
  },
  {
   "cell_type": "markdown",
   "metadata": {
    "papermill": {
     "duration": 0.031564,
     "end_time": "2022-01-30T13:07:28.873752",
     "exception": false,
     "start_time": "2022-01-30T13:07:28.842188",
     "status": "completed"
    },
    "tags": []
   },
   "source": [
    "# LOADING THE DATASET"
   ]
  },
  {
   "cell_type": "code",
   "execution_count": 2,
   "metadata": {
    "execution": {
     "iopub.execute_input": "2022-01-30T13:07:28.949810Z",
     "iopub.status.busy": "2022-01-30T13:07:28.949118Z",
     "iopub.status.idle": "2022-01-30T13:07:29.139026Z",
     "shell.execute_reply": "2022-01-30T13:07:29.139581Z",
     "shell.execute_reply.started": "2022-01-30T13:00:30.519932Z"
    },
    "papermill": {
     "duration": 0.233374,
     "end_time": "2022-01-30T13:07:29.139724",
     "exception": false,
     "start_time": "2022-01-30T13:07:28.906350",
     "status": "completed"
    },
    "tags": []
   },
   "outputs": [
    {
     "data": {
      "text/html": [
       "<div>\n",
       "<style scoped>\n",
       "    .dataframe tbody tr th:only-of-type {\n",
       "        vertical-align: middle;\n",
       "    }\n",
       "\n",
       "    .dataframe tbody tr th {\n",
       "        vertical-align: top;\n",
       "    }\n",
       "\n",
       "    .dataframe thead th {\n",
       "        text-align: right;\n",
       "    }\n",
       "</style>\n",
       "<table border=\"1\" class=\"dataframe\">\n",
       "  <thead>\n",
       "    <tr style=\"text-align: right;\">\n",
       "      <th></th>\n",
       "      <th>age</th>\n",
       "      <th>job</th>\n",
       "      <th>marital</th>\n",
       "      <th>education</th>\n",
       "      <th>default</th>\n",
       "      <th>balance</th>\n",
       "      <th>housing</th>\n",
       "      <th>loan</th>\n",
       "      <th>contact</th>\n",
       "      <th>day</th>\n",
       "      <th>month</th>\n",
       "      <th>duration</th>\n",
       "      <th>campaign</th>\n",
       "      <th>pdays</th>\n",
       "      <th>previous</th>\n",
       "      <th>poutcome</th>\n",
       "      <th>y</th>\n",
       "    </tr>\n",
       "  </thead>\n",
       "  <tbody>\n",
       "    <tr>\n",
       "      <th>0</th>\n",
       "      <td>58</td>\n",
       "      <td>management</td>\n",
       "      <td>married</td>\n",
       "      <td>tertiary</td>\n",
       "      <td>no</td>\n",
       "      <td>2143</td>\n",
       "      <td>yes</td>\n",
       "      <td>no</td>\n",
       "      <td>unknown</td>\n",
       "      <td>5</td>\n",
       "      <td>may</td>\n",
       "      <td>261</td>\n",
       "      <td>1</td>\n",
       "      <td>-1</td>\n",
       "      <td>0</td>\n",
       "      <td>unknown</td>\n",
       "      <td>no</td>\n",
       "    </tr>\n",
       "    <tr>\n",
       "      <th>1</th>\n",
       "      <td>44</td>\n",
       "      <td>technician</td>\n",
       "      <td>single</td>\n",
       "      <td>secondary</td>\n",
       "      <td>no</td>\n",
       "      <td>29</td>\n",
       "      <td>yes</td>\n",
       "      <td>no</td>\n",
       "      <td>unknown</td>\n",
       "      <td>5</td>\n",
       "      <td>may</td>\n",
       "      <td>151</td>\n",
       "      <td>1</td>\n",
       "      <td>-1</td>\n",
       "      <td>0</td>\n",
       "      <td>unknown</td>\n",
       "      <td>no</td>\n",
       "    </tr>\n",
       "    <tr>\n",
       "      <th>2</th>\n",
       "      <td>33</td>\n",
       "      <td>entrepreneur</td>\n",
       "      <td>married</td>\n",
       "      <td>secondary</td>\n",
       "      <td>no</td>\n",
       "      <td>2</td>\n",
       "      <td>yes</td>\n",
       "      <td>yes</td>\n",
       "      <td>unknown</td>\n",
       "      <td>5</td>\n",
       "      <td>may</td>\n",
       "      <td>76</td>\n",
       "      <td>1</td>\n",
       "      <td>-1</td>\n",
       "      <td>0</td>\n",
       "      <td>unknown</td>\n",
       "      <td>no</td>\n",
       "    </tr>\n",
       "    <tr>\n",
       "      <th>3</th>\n",
       "      <td>47</td>\n",
       "      <td>blue-collar</td>\n",
       "      <td>married</td>\n",
       "      <td>unknown</td>\n",
       "      <td>no</td>\n",
       "      <td>1506</td>\n",
       "      <td>yes</td>\n",
       "      <td>no</td>\n",
       "      <td>unknown</td>\n",
       "      <td>5</td>\n",
       "      <td>may</td>\n",
       "      <td>92</td>\n",
       "      <td>1</td>\n",
       "      <td>-1</td>\n",
       "      <td>0</td>\n",
       "      <td>unknown</td>\n",
       "      <td>no</td>\n",
       "    </tr>\n",
       "    <tr>\n",
       "      <th>4</th>\n",
       "      <td>33</td>\n",
       "      <td>unknown</td>\n",
       "      <td>single</td>\n",
       "      <td>unknown</td>\n",
       "      <td>no</td>\n",
       "      <td>1</td>\n",
       "      <td>no</td>\n",
       "      <td>no</td>\n",
       "      <td>unknown</td>\n",
       "      <td>5</td>\n",
       "      <td>may</td>\n",
       "      <td>198</td>\n",
       "      <td>1</td>\n",
       "      <td>-1</td>\n",
       "      <td>0</td>\n",
       "      <td>unknown</td>\n",
       "      <td>no</td>\n",
       "    </tr>\n",
       "  </tbody>\n",
       "</table>\n",
       "</div>"
      ],
      "text/plain": [
       "   age           job  marital  education default  balance housing loan  \\\n",
       "0   58    management  married   tertiary      no     2143     yes   no   \n",
       "1   44    technician   single  secondary      no       29     yes   no   \n",
       "2   33  entrepreneur  married  secondary      no        2     yes  yes   \n",
       "3   47   blue-collar  married    unknown      no     1506     yes   no   \n",
       "4   33       unknown   single    unknown      no        1      no   no   \n",
       "\n",
       "   contact  day month  duration  campaign  pdays  previous poutcome   y  \n",
       "0  unknown    5   may       261         1     -1         0  unknown  no  \n",
       "1  unknown    5   may       151         1     -1         0  unknown  no  \n",
       "2  unknown    5   may        76         1     -1         0  unknown  no  \n",
       "3  unknown    5   may        92         1     -1         0  unknown  no  \n",
       "4  unknown    5   may       198         1     -1         0  unknown  no  "
      ]
     },
     "execution_count": 2,
     "metadata": {},
     "output_type": "execute_result"
    }
   ],
   "source": [
    "#Reading training and testing data as dataframes\n",
    "train_df = pd.read_csv(\"/kaggle/input/banking-dataset-marketing-targets/train.csv\",sep =\";\")\n",
    "test_df = pd.read_csv(\"/kaggle/input/banking-dataset-marketing-targets/test.csv\", sep =\";\")\n",
    "train_df.head()"
   ]
  },
  {
   "cell_type": "markdown",
   "metadata": {
    "papermill": {
     "duration": 0.032044,
     "end_time": "2022-01-30T13:07:29.206794",
     "exception": false,
     "start_time": "2022-01-30T13:07:29.174750",
     "status": "completed"
    },
    "tags": []
   },
   "source": [
    "# Data Profiling"
   ]
  },
  {
   "cell_type": "code",
   "execution_count": 3,
   "metadata": {
    "execution": {
     "iopub.execute_input": "2022-01-30T13:07:29.276272Z",
     "iopub.status.busy": "2022-01-30T13:07:29.275414Z",
     "iopub.status.idle": "2022-01-30T13:07:29.279428Z",
     "shell.execute_reply": "2022-01-30T13:07:29.278874Z",
     "shell.execute_reply.started": "2022-01-30T13:00:30.662720Z"
    },
    "papermill": {
     "duration": 0.04059,
     "end_time": "2022-01-30T13:07:29.279543",
     "exception": false,
     "start_time": "2022-01-30T13:07:29.238953",
     "status": "completed"
    },
    "tags": []
   },
   "outputs": [
    {
     "data": {
      "text/plain": [
       "(45211, 17)"
      ]
     },
     "execution_count": 3,
     "metadata": {},
     "output_type": "execute_result"
    }
   ],
   "source": [
    "#Dimensions of dataset\n",
    "train_df.shape"
   ]
  },
  {
   "cell_type": "code",
   "execution_count": 4,
   "metadata": {
    "execution": {
     "iopub.execute_input": "2022-01-30T13:07:29.347413Z",
     "iopub.status.busy": "2022-01-30T13:07:29.346482Z",
     "iopub.status.idle": "2022-01-30T13:07:29.384043Z",
     "shell.execute_reply": "2022-01-30T13:07:29.384758Z",
     "shell.execute_reply.started": "2022-01-30T13:00:30.670429Z"
    },
    "papermill": {
     "duration": 0.073299,
     "end_time": "2022-01-30T13:07:29.384960",
     "exception": false,
     "start_time": "2022-01-30T13:07:29.311661",
     "status": "completed"
    },
    "tags": []
   },
   "outputs": [
    {
     "name": "stdout",
     "output_type": "stream",
     "text": [
      "<class 'pandas.core.frame.DataFrame'>\n",
      "RangeIndex: 45211 entries, 0 to 45210\n",
      "Data columns (total 17 columns):\n",
      " #   Column     Non-Null Count  Dtype \n",
      "---  ------     --------------  ----- \n",
      " 0   age        45211 non-null  int64 \n",
      " 1   job        45211 non-null  object\n",
      " 2   marital    45211 non-null  object\n",
      " 3   education  45211 non-null  object\n",
      " 4   default    45211 non-null  object\n",
      " 5   balance    45211 non-null  int64 \n",
      " 6   housing    45211 non-null  object\n",
      " 7   loan       45211 non-null  object\n",
      " 8   contact    45211 non-null  object\n",
      " 9   day        45211 non-null  int64 \n",
      " 10  month      45211 non-null  object\n",
      " 11  duration   45211 non-null  int64 \n",
      " 12  campaign   45211 non-null  int64 \n",
      " 13  pdays      45211 non-null  int64 \n",
      " 14  previous   45211 non-null  int64 \n",
      " 15  poutcome   45211 non-null  object\n",
      " 16  y          45211 non-null  object\n",
      "dtypes: int64(7), object(10)\n",
      "memory usage: 5.9+ MB\n"
     ]
    }
   ],
   "source": [
    "#Information about the data types of features\n",
    "train_df.info()"
   ]
  },
  {
   "cell_type": "code",
   "execution_count": 5,
   "metadata": {
    "execution": {
     "iopub.execute_input": "2022-01-30T13:07:29.457366Z",
     "iopub.status.busy": "2022-01-30T13:07:29.456694Z",
     "iopub.status.idle": "2022-01-30T13:07:29.598256Z",
     "shell.execute_reply": "2022-01-30T13:07:29.597668Z",
     "shell.execute_reply.started": "2022-01-30T13:00:30.740103Z"
    },
    "papermill": {
     "duration": 0.178807,
     "end_time": "2022-01-30T13:07:29.598365",
     "exception": false,
     "start_time": "2022-01-30T13:07:29.419558",
     "status": "completed"
    },
    "tags": []
   },
   "outputs": [
    {
     "data": {
      "text/html": [
       "<div>\n",
       "<style scoped>\n",
       "    .dataframe tbody tr th:only-of-type {\n",
       "        vertical-align: middle;\n",
       "    }\n",
       "\n",
       "    .dataframe tbody tr th {\n",
       "        vertical-align: top;\n",
       "    }\n",
       "\n",
       "    .dataframe thead th {\n",
       "        text-align: right;\n",
       "    }\n",
       "</style>\n",
       "<table border=\"1\" class=\"dataframe\">\n",
       "  <thead>\n",
       "    <tr style=\"text-align: right;\">\n",
       "      <th></th>\n",
       "      <th>age</th>\n",
       "      <th>job</th>\n",
       "      <th>marital</th>\n",
       "      <th>education</th>\n",
       "      <th>default</th>\n",
       "      <th>balance</th>\n",
       "      <th>housing</th>\n",
       "      <th>loan</th>\n",
       "      <th>contact</th>\n",
       "      <th>day</th>\n",
       "      <th>month</th>\n",
       "      <th>duration</th>\n",
       "      <th>campaign</th>\n",
       "      <th>pdays</th>\n",
       "      <th>previous</th>\n",
       "      <th>poutcome</th>\n",
       "      <th>y</th>\n",
       "    </tr>\n",
       "  </thead>\n",
       "  <tbody>\n",
       "    <tr>\n",
       "      <th>count</th>\n",
       "      <td>45211.000000</td>\n",
       "      <td>45211</td>\n",
       "      <td>45211</td>\n",
       "      <td>45211</td>\n",
       "      <td>45211</td>\n",
       "      <td>45211.000000</td>\n",
       "      <td>45211</td>\n",
       "      <td>45211</td>\n",
       "      <td>45211</td>\n",
       "      <td>45211.000000</td>\n",
       "      <td>45211</td>\n",
       "      <td>45211.000000</td>\n",
       "      <td>45211.000000</td>\n",
       "      <td>45211.000000</td>\n",
       "      <td>45211.000000</td>\n",
       "      <td>45211</td>\n",
       "      <td>45211</td>\n",
       "    </tr>\n",
       "    <tr>\n",
       "      <th>unique</th>\n",
       "      <td>NaN</td>\n",
       "      <td>12</td>\n",
       "      <td>3</td>\n",
       "      <td>4</td>\n",
       "      <td>2</td>\n",
       "      <td>NaN</td>\n",
       "      <td>2</td>\n",
       "      <td>2</td>\n",
       "      <td>3</td>\n",
       "      <td>NaN</td>\n",
       "      <td>12</td>\n",
       "      <td>NaN</td>\n",
       "      <td>NaN</td>\n",
       "      <td>NaN</td>\n",
       "      <td>NaN</td>\n",
       "      <td>4</td>\n",
       "      <td>2</td>\n",
       "    </tr>\n",
       "    <tr>\n",
       "      <th>top</th>\n",
       "      <td>NaN</td>\n",
       "      <td>blue-collar</td>\n",
       "      <td>married</td>\n",
       "      <td>secondary</td>\n",
       "      <td>no</td>\n",
       "      <td>NaN</td>\n",
       "      <td>yes</td>\n",
       "      <td>no</td>\n",
       "      <td>cellular</td>\n",
       "      <td>NaN</td>\n",
       "      <td>may</td>\n",
       "      <td>NaN</td>\n",
       "      <td>NaN</td>\n",
       "      <td>NaN</td>\n",
       "      <td>NaN</td>\n",
       "      <td>unknown</td>\n",
       "      <td>no</td>\n",
       "    </tr>\n",
       "    <tr>\n",
       "      <th>freq</th>\n",
       "      <td>NaN</td>\n",
       "      <td>9732</td>\n",
       "      <td>27214</td>\n",
       "      <td>23202</td>\n",
       "      <td>44396</td>\n",
       "      <td>NaN</td>\n",
       "      <td>25130</td>\n",
       "      <td>37967</td>\n",
       "      <td>29285</td>\n",
       "      <td>NaN</td>\n",
       "      <td>13766</td>\n",
       "      <td>NaN</td>\n",
       "      <td>NaN</td>\n",
       "      <td>NaN</td>\n",
       "      <td>NaN</td>\n",
       "      <td>36959</td>\n",
       "      <td>39922</td>\n",
       "    </tr>\n",
       "    <tr>\n",
       "      <th>mean</th>\n",
       "      <td>40.936210</td>\n",
       "      <td>NaN</td>\n",
       "      <td>NaN</td>\n",
       "      <td>NaN</td>\n",
       "      <td>NaN</td>\n",
       "      <td>1362.272058</td>\n",
       "      <td>NaN</td>\n",
       "      <td>NaN</td>\n",
       "      <td>NaN</td>\n",
       "      <td>15.806419</td>\n",
       "      <td>NaN</td>\n",
       "      <td>258.163080</td>\n",
       "      <td>2.763841</td>\n",
       "      <td>40.197828</td>\n",
       "      <td>0.580323</td>\n",
       "      <td>NaN</td>\n",
       "      <td>NaN</td>\n",
       "    </tr>\n",
       "    <tr>\n",
       "      <th>std</th>\n",
       "      <td>10.618762</td>\n",
       "      <td>NaN</td>\n",
       "      <td>NaN</td>\n",
       "      <td>NaN</td>\n",
       "      <td>NaN</td>\n",
       "      <td>3044.765829</td>\n",
       "      <td>NaN</td>\n",
       "      <td>NaN</td>\n",
       "      <td>NaN</td>\n",
       "      <td>8.322476</td>\n",
       "      <td>NaN</td>\n",
       "      <td>257.527812</td>\n",
       "      <td>3.098021</td>\n",
       "      <td>100.128746</td>\n",
       "      <td>2.303441</td>\n",
       "      <td>NaN</td>\n",
       "      <td>NaN</td>\n",
       "    </tr>\n",
       "    <tr>\n",
       "      <th>min</th>\n",
       "      <td>18.000000</td>\n",
       "      <td>NaN</td>\n",
       "      <td>NaN</td>\n",
       "      <td>NaN</td>\n",
       "      <td>NaN</td>\n",
       "      <td>-8019.000000</td>\n",
       "      <td>NaN</td>\n",
       "      <td>NaN</td>\n",
       "      <td>NaN</td>\n",
       "      <td>1.000000</td>\n",
       "      <td>NaN</td>\n",
       "      <td>0.000000</td>\n",
       "      <td>1.000000</td>\n",
       "      <td>-1.000000</td>\n",
       "      <td>0.000000</td>\n",
       "      <td>NaN</td>\n",
       "      <td>NaN</td>\n",
       "    </tr>\n",
       "    <tr>\n",
       "      <th>25%</th>\n",
       "      <td>33.000000</td>\n",
       "      <td>NaN</td>\n",
       "      <td>NaN</td>\n",
       "      <td>NaN</td>\n",
       "      <td>NaN</td>\n",
       "      <td>72.000000</td>\n",
       "      <td>NaN</td>\n",
       "      <td>NaN</td>\n",
       "      <td>NaN</td>\n",
       "      <td>8.000000</td>\n",
       "      <td>NaN</td>\n",
       "      <td>103.000000</td>\n",
       "      <td>1.000000</td>\n",
       "      <td>-1.000000</td>\n",
       "      <td>0.000000</td>\n",
       "      <td>NaN</td>\n",
       "      <td>NaN</td>\n",
       "    </tr>\n",
       "    <tr>\n",
       "      <th>50%</th>\n",
       "      <td>39.000000</td>\n",
       "      <td>NaN</td>\n",
       "      <td>NaN</td>\n",
       "      <td>NaN</td>\n",
       "      <td>NaN</td>\n",
       "      <td>448.000000</td>\n",
       "      <td>NaN</td>\n",
       "      <td>NaN</td>\n",
       "      <td>NaN</td>\n",
       "      <td>16.000000</td>\n",
       "      <td>NaN</td>\n",
       "      <td>180.000000</td>\n",
       "      <td>2.000000</td>\n",
       "      <td>-1.000000</td>\n",
       "      <td>0.000000</td>\n",
       "      <td>NaN</td>\n",
       "      <td>NaN</td>\n",
       "    </tr>\n",
       "    <tr>\n",
       "      <th>75%</th>\n",
       "      <td>48.000000</td>\n",
       "      <td>NaN</td>\n",
       "      <td>NaN</td>\n",
       "      <td>NaN</td>\n",
       "      <td>NaN</td>\n",
       "      <td>1428.000000</td>\n",
       "      <td>NaN</td>\n",
       "      <td>NaN</td>\n",
       "      <td>NaN</td>\n",
       "      <td>21.000000</td>\n",
       "      <td>NaN</td>\n",
       "      <td>319.000000</td>\n",
       "      <td>3.000000</td>\n",
       "      <td>-1.000000</td>\n",
       "      <td>0.000000</td>\n",
       "      <td>NaN</td>\n",
       "      <td>NaN</td>\n",
       "    </tr>\n",
       "    <tr>\n",
       "      <th>max</th>\n",
       "      <td>95.000000</td>\n",
       "      <td>NaN</td>\n",
       "      <td>NaN</td>\n",
       "      <td>NaN</td>\n",
       "      <td>NaN</td>\n",
       "      <td>102127.000000</td>\n",
       "      <td>NaN</td>\n",
       "      <td>NaN</td>\n",
       "      <td>NaN</td>\n",
       "      <td>31.000000</td>\n",
       "      <td>NaN</td>\n",
       "      <td>4918.000000</td>\n",
       "      <td>63.000000</td>\n",
       "      <td>871.000000</td>\n",
       "      <td>275.000000</td>\n",
       "      <td>NaN</td>\n",
       "      <td>NaN</td>\n",
       "    </tr>\n",
       "  </tbody>\n",
       "</table>\n",
       "</div>"
      ],
      "text/plain": [
       "                 age          job  marital  education default        balance  \\\n",
       "count   45211.000000        45211    45211      45211   45211   45211.000000   \n",
       "unique           NaN           12        3          4       2            NaN   \n",
       "top              NaN  blue-collar  married  secondary      no            NaN   \n",
       "freq             NaN         9732    27214      23202   44396            NaN   \n",
       "mean       40.936210          NaN      NaN        NaN     NaN    1362.272058   \n",
       "std        10.618762          NaN      NaN        NaN     NaN    3044.765829   \n",
       "min        18.000000          NaN      NaN        NaN     NaN   -8019.000000   \n",
       "25%        33.000000          NaN      NaN        NaN     NaN      72.000000   \n",
       "50%        39.000000          NaN      NaN        NaN     NaN     448.000000   \n",
       "75%        48.000000          NaN      NaN        NaN     NaN    1428.000000   \n",
       "max        95.000000          NaN      NaN        NaN     NaN  102127.000000   \n",
       "\n",
       "       housing   loan   contact           day  month      duration  \\\n",
       "count    45211  45211     45211  45211.000000  45211  45211.000000   \n",
       "unique       2      2         3           NaN     12           NaN   \n",
       "top        yes     no  cellular           NaN    may           NaN   \n",
       "freq     25130  37967     29285           NaN  13766           NaN   \n",
       "mean       NaN    NaN       NaN     15.806419    NaN    258.163080   \n",
       "std        NaN    NaN       NaN      8.322476    NaN    257.527812   \n",
       "min        NaN    NaN       NaN      1.000000    NaN      0.000000   \n",
       "25%        NaN    NaN       NaN      8.000000    NaN    103.000000   \n",
       "50%        NaN    NaN       NaN     16.000000    NaN    180.000000   \n",
       "75%        NaN    NaN       NaN     21.000000    NaN    319.000000   \n",
       "max        NaN    NaN       NaN     31.000000    NaN   4918.000000   \n",
       "\n",
       "            campaign         pdays      previous poutcome      y  \n",
       "count   45211.000000  45211.000000  45211.000000    45211  45211  \n",
       "unique           NaN           NaN           NaN        4      2  \n",
       "top              NaN           NaN           NaN  unknown     no  \n",
       "freq             NaN           NaN           NaN    36959  39922  \n",
       "mean        2.763841     40.197828      0.580323      NaN    NaN  \n",
       "std         3.098021    100.128746      2.303441      NaN    NaN  \n",
       "min         1.000000     -1.000000      0.000000      NaN    NaN  \n",
       "25%         1.000000     -1.000000      0.000000      NaN    NaN  \n",
       "50%         2.000000     -1.000000      0.000000      NaN    NaN  \n",
       "75%         3.000000     -1.000000      0.000000      NaN    NaN  \n",
       "max        63.000000    871.000000    275.000000      NaN    NaN  "
      ]
     },
     "execution_count": 5,
     "metadata": {},
     "output_type": "execute_result"
    }
   ],
   "source": [
    "#Statistical summary of training dataset\n",
    "train_df.describe(include ='all')"
   ]
  },
  {
   "cell_type": "code",
   "execution_count": 6,
   "metadata": {
    "execution": {
     "iopub.execute_input": "2022-01-30T13:07:29.667806Z",
     "iopub.status.busy": "2022-01-30T13:07:29.667183Z",
     "iopub.status.idle": "2022-01-30T13:07:29.695452Z",
     "shell.execute_reply": "2022-01-30T13:07:29.694970Z",
     "shell.execute_reply.started": "2022-01-30T13:00:30.966723Z"
    },
    "papermill": {
     "duration": 0.064268,
     "end_time": "2022-01-30T13:07:29.695575",
     "exception": false,
     "start_time": "2022-01-30T13:07:29.631307",
     "status": "completed"
    },
    "tags": []
   },
   "outputs": [
    {
     "data": {
      "text/plain": [
       "age          0\n",
       "job          0\n",
       "marital      0\n",
       "education    0\n",
       "default      0\n",
       "balance      0\n",
       "housing      0\n",
       "loan         0\n",
       "contact      0\n",
       "day          0\n",
       "month        0\n",
       "duration     0\n",
       "campaign     0\n",
       "pdays        0\n",
       "previous     0\n",
       "poutcome     0\n",
       "y            0\n",
       "dtype: int64"
      ]
     },
     "execution_count": 6,
     "metadata": {},
     "output_type": "execute_result"
    }
   ],
   "source": [
    "#Checking if there are any missing values\n",
    "train_df.isnull().sum()"
   ]
  },
  {
   "cell_type": "code",
   "execution_count": 7,
   "metadata": {
    "execution": {
     "iopub.execute_input": "2022-01-30T13:07:29.769255Z",
     "iopub.status.busy": "2022-01-30T13:07:29.768605Z",
     "iopub.status.idle": "2022-01-30T13:07:29.866762Z",
     "shell.execute_reply": "2022-01-30T13:07:29.866126Z",
     "shell.execute_reply.started": "2022-01-30T13:00:31.024531Z"
    },
    "papermill": {
     "duration": 0.137105,
     "end_time": "2022-01-30T13:07:29.866880",
     "exception": false,
     "start_time": "2022-01-30T13:07:29.729775",
     "status": "completed"
    },
    "tags": []
   },
   "outputs": [
    {
     "data": {
      "text/plain": [
       "age  job         marital   education  default  balance  housing  loan  contact    day  month  duration  campaign  pdays  previous  poutcome  y  \n",
       "95   retired     married   secondary  no       0        no       no    telephone  1    oct    215       1         -1     0         unknown   no     1\n",
       "34   unknown     married   unknown    no       4535     no       no    cellular   6    aug    54        3         -1     0         unknown   no     1\n",
       "35   admin.      married   secondary  no       126      yes      no    cellular   8    apr    268       1         -1     0         unknown   no     1\n",
       "                                               122      yes      no    cellular   18   nov    51        4         -1     0         unknown   no     1\n",
       "                                               100      yes      no    cellular   14   may    171       4         -1     0         unknown   no     1\n",
       "                                                                                                                                                   ..\n",
       "45   management  divorced  tertiary   no       347      no       yes   cellular   28   jan    53        1         -1     0         unknown   no     1\n",
       "                                               335      no       no    cellular   5    aug    297       1         -1     0         unknown   no     1\n",
       "                                               220      yes      no    unknown    18   jun    89        4         -1     0         unknown   no     1\n",
       "                                               54       no       yes   cellular   21   jul    34        3         -1     0         unknown   no     1\n",
       "18   student     single    primary    no       608      no       no    cellular   12   aug    267       1         -1     0         unknown   yes    1\n",
       "Length: 45211, dtype: int64"
      ]
     },
     "execution_count": 7,
     "metadata": {},
     "output_type": "execute_result"
    }
   ],
   "source": [
    "train_df.value_counts()"
   ]
  },
  {
   "cell_type": "code",
   "execution_count": 8,
   "metadata": {
    "execution": {
     "iopub.execute_input": "2022-01-30T13:07:29.937589Z",
     "iopub.status.busy": "2022-01-30T13:07:29.936982Z",
     "iopub.status.idle": "2022-01-30T13:07:29.941594Z",
     "shell.execute_reply": "2022-01-30T13:07:29.942071Z",
     "shell.execute_reply.started": "2022-01-30T13:00:31.126917Z"
    },
    "papermill": {
     "duration": 0.041601,
     "end_time": "2022-01-30T13:07:29.942211",
     "exception": false,
     "start_time": "2022-01-30T13:07:29.900610",
     "status": "completed"
    },
    "tags": []
   },
   "outputs": [
    {
     "data": {
      "text/plain": [
       "Index(['age', 'job', 'marital', 'education', 'default', 'balance', 'housing',\n",
       "       'loan', 'contact', 'day', 'month', 'duration', 'campaign', 'pdays',\n",
       "       'previous', 'poutcome', 'y'],\n",
       "      dtype='object')"
      ]
     },
     "execution_count": 8,
     "metadata": {},
     "output_type": "execute_result"
    }
   ],
   "source": [
    "train_df.columns"
   ]
  },
  {
   "cell_type": "markdown",
   "metadata": {
    "papermill": {
     "duration": 0.034011,
     "end_time": "2022-01-30T13:07:30.010176",
     "exception": false,
     "start_time": "2022-01-30T13:07:29.976165",
     "status": "completed"
    },
    "tags": []
   },
   "source": [
    "# Exploratory Data Analysis"
   ]
  },
  {
   "cell_type": "code",
   "execution_count": 9,
   "metadata": {
    "execution": {
     "iopub.execute_input": "2022-01-30T13:07:30.083730Z",
     "iopub.status.busy": "2022-01-30T13:07:30.083090Z",
     "iopub.status.idle": "2022-01-30T13:07:30.321837Z",
     "shell.execute_reply": "2022-01-30T13:07:30.321219Z",
     "shell.execute_reply.started": "2022-01-30T13:00:31.133835Z"
    },
    "papermill": {
     "duration": 0.277353,
     "end_time": "2022-01-30T13:07:30.321949",
     "exception": false,
     "start_time": "2022-01-30T13:07:30.044596",
     "status": "completed"
    },
    "tags": []
   },
   "outputs": [
    {
     "data": {
      "text/plain": [
       "Text(0.5, 1.0, 'Education type vs Count')"
      ]
     },
     "execution_count": 9,
     "metadata": {},
     "output_type": "execute_result"
    },
    {
     "data": {
      "image/png": "[encoded data removed]",
      "text/plain": [
       "<Figure size 432x288 with 1 Axes>"
      ]
     },
     "metadata": {
      "needs_background": "light"
     },
     "output_type": "display_data"
    }
   ],
   "source": [
    "sns.countplot(x=\"education\",data=train_df, hue = \"y\")\n",
    "plt.title(\"Education type vs Count\")"
   ]
  },
  {
   "cell_type": "markdown",
   "metadata": {
    "papermill": {
     "duration": 0.034381,
     "end_time": "2022-01-30T13:07:30.391880",
     "exception": false,
     "start_time": "2022-01-30T13:07:30.357499",
     "status": "completed"
    },
    "tags": []
   },
   "source": [
    "**More people with higher education degrees will be subscribed and preferred in the banking domain in future. Proportional relationship. More secondary profiles means more term deposit will be sold.**\n"
   ]
  },
  {
   "cell_type": "code",
   "execution_count": 10,
   "metadata": {
    "execution": {
     "iopub.execute_input": "2022-01-30T13:07:30.479020Z",
     "iopub.status.busy": "2022-01-30T13:07:30.478387Z",
     "iopub.status.idle": "2022-01-30T13:07:30.611841Z",
     "shell.execute_reply": "2022-01-30T13:07:30.611231Z",
     "shell.execute_reply.started": "2022-01-30T13:00:31.367127Z"
    },
    "papermill": {
     "duration": 0.181006,
     "end_time": "2022-01-30T13:07:30.611991",
     "exception": false,
     "start_time": "2022-01-30T13:07:30.430985",
     "status": "completed"
    },
    "tags": []
   },
   "outputs": [
    {
     "data": {
      "text/plain": [
       "Text(0.5, 1.0, 'Martial Status vs Count')"
      ]
     },
     "execution_count": 10,
     "metadata": {},
     "output_type": "execute_result"
    },
    {
     "data": {
      "image/png": "[encoded data removed]",
      "text/plain": [
       "<Figure size 432x288 with 1 Axes>"
      ]
     },
     "metadata": {
      "needs_background": "light"
     },
     "output_type": "display_data"
    }
   ],
   "source": [
    "sns.countplot(x=\"marital\", data = train_df)\n",
    "plt.title(\"Martial Status vs Count\")"
   ]
  },
  {
   "cell_type": "markdown",
   "metadata": {
    "papermill": {
     "duration": 0.035276,
     "end_time": "2022-01-30T13:07:30.688513",
     "exception": false,
     "start_time": "2022-01-30T13:07:30.653237",
     "status": "completed"
    },
    "tags": []
   },
   "source": [
    "**The bank will be interested more in married people and single than divorced people. The three variables are presented in descending order. Direct relation of samples wrt. the target column. The most \"married\" samples meant more subscribers.\n",
    "It seems that married people would invest more in the banking domain than the single or divorced people in the upcoming time.**\n",
    "\n"
   ]
  },
  {
   "cell_type": "code",
   "execution_count": 11,
   "metadata": {
    "execution": {
     "iopub.execute_input": "2022-01-30T13:07:30.762520Z",
     "iopub.status.busy": "2022-01-30T13:07:30.761843Z",
     "iopub.status.idle": "2022-01-30T13:07:31.075891Z",
     "shell.execute_reply": "2022-01-30T13:07:31.075250Z",
     "shell.execute_reply.started": "2022-01-30T13:00:31.519851Z"
    },
    "papermill": {
     "duration": 0.351825,
     "end_time": "2022-01-30T13:07:31.076016",
     "exception": false,
     "start_time": "2022-01-30T13:07:30.724191",
     "status": "completed"
    },
    "tags": []
   },
   "outputs": [
    {
     "data": {
      "text/plain": [
       "(array([ 0,  1,  2,  3,  4,  5,  6,  7,  8,  9, 10, 11]),\n",
       " <a list of 12 Text major ticklabel objects>)"
      ]
     },
     "execution_count": 11,
     "metadata": {},
     "output_type": "execute_result"
    },
    {
     "data": {
      "image/png": "[encoded data removed]",
      "text/plain": [
       "<Figure size 432x288 with 1 Axes>"
      ]
     },
     "metadata": {
      "needs_background": "light"
     },
     "output_type": "display_data"
    }
   ],
   "source": [
    "sns.countplot(x=\"job\", data = train_df, hue =\"y\")\n",
    "plt.title(\"Job vs Count\")\n",
    "plt.xticks(rotation=90)"
   ]
  },
  {
   "cell_type": "markdown",
   "metadata": {
    "papermill": {
     "duration": 0.037887,
     "end_time": "2022-01-30T13:07:31.150791",
     "exception": false,
     "start_time": "2022-01-30T13:07:31.112904",
     "status": "completed"
    },
    "tags": []
   },
   "source": [
    "**The bank would contact more on people with professional profiles. Most of the term deposit takers have a high qualification with regards to others. In the upcoming time mostly working pople who are in the management peoples would be interested in investing their money in banking domain.**\n"
   ]
  },
  {
   "cell_type": "code",
   "execution_count": 12,
   "metadata": {
    "execution": {
     "iopub.execute_input": "2022-01-30T13:07:31.230634Z",
     "iopub.status.busy": "2022-01-30T13:07:31.229982Z",
     "iopub.status.idle": "2022-01-30T13:07:31.381536Z",
     "shell.execute_reply": "2022-01-30T13:07:31.381000Z",
     "shell.execute_reply.started": "2022-01-30T13:00:31.849570Z"
    },
    "papermill": {
     "duration": 0.1918,
     "end_time": "2022-01-30T13:07:31.381669",
     "exception": false,
     "start_time": "2022-01-30T13:07:31.189869",
     "status": "completed"
    },
    "tags": []
   },
   "outputs": [
    {
     "data": {
      "text/plain": [
       "Text(0.5, 1.0, 'personal loan vs Count')"
      ]
     },
     "execution_count": 12,
     "metadata": {},
     "output_type": "execute_result"
    },
    {
     "data": {
      "image/png": "[encoded data removed]",
      "text/plain": [
       "<Figure size 432x288 with 1 Axes>"
      ]
     },
     "metadata": {
      "needs_background": "light"
     },
     "output_type": "display_data"
    }
   ],
   "source": [
    "sns.countplot(x=\"loan\", data = train_df, hue =\"y\")\n",
    "plt.title(\"personal loan vs Count\")"
   ]
  },
  {
   "cell_type": "markdown",
   "metadata": {
    "papermill": {
     "duration": 0.037071,
     "end_time": "2022-01-30T13:07:31.458197",
     "exception": false,
     "start_time": "2022-01-30T13:07:31.421126",
     "status": "completed"
    },
    "tags": []
   },
   "source": [
    "**People facing heavy loans would not be interested in future for the banking deposits where the automation can take place which would benefit the both banking employee and common people. Jobs like passbook updating, cash deposit, verification of know-your-customer details, salary uploads can be done with the help of artifical intelligence pushing the boundaries of technology by implementing robotics to centralise operations and for quicker turnarounds in things like loan processing and selling financial products to customers. This is reducing the need for a manual worker at the back end.**\n",
    "\n",
    "\n",
    "\n"
   ]
  },
  {
   "cell_type": "code",
   "execution_count": 13,
   "metadata": {
    "execution": {
     "iopub.execute_input": "2022-01-30T13:07:31.539676Z",
     "iopub.status.busy": "2022-01-30T13:07:31.539079Z",
     "iopub.status.idle": "2022-01-30T13:07:31.675023Z",
     "shell.execute_reply": "2022-01-30T13:07:31.674457Z",
     "shell.execute_reply.started": "2022-01-30T13:00:32.045760Z"
    },
    "papermill": {
     "duration": 0.179457,
     "end_time": "2022-01-30T13:07:31.675135",
     "exception": false,
     "start_time": "2022-01-30T13:07:31.495678",
     "status": "completed"
    },
    "tags": []
   },
   "outputs": [
    {
     "data": {
      "text/plain": [
       "Text(0.5, 1.0, 'housing loan vs Count')"
      ]
     },
     "execution_count": 13,
     "metadata": {},
     "output_type": "execute_result"
    },
    {
     "data": {
      "image/png": "[encoded data removed]",
      "text/plain": [
       "<Figure size 432x288 with 1 Axes>"
      ]
     },
     "metadata": {
      "needs_background": "light"
     },
     "output_type": "display_data"
    }
   ],
   "source": [
    "sns.countplot(x=\"housing\", data = train_df, hue =\"y\")\n",
    "plt.title(\"housing loan vs Count\")"
   ]
  },
  {
   "cell_type": "markdown",
   "metadata": {
    "papermill": {
     "duration": 0.037413,
     "end_time": "2022-01-30T13:07:31.750227",
     "exception": false,
     "start_time": "2022-01-30T13:07:31.712814",
     "status": "completed"
    },
    "tags": []
   },
   "source": [
    "**There are more people with a housing loan. People without a housing loan are in higher proportion decided to got subscribed to a term deposit. Inverse proportion relationship. Today many passbooks and automated banking machines have taken place of the home to home delivery which can significantly reduce the manual task by 37 % and would increase upto 50 % in future.**\n",
    "\n"
   ]
  },
  {
   "cell_type": "code",
   "execution_count": 14,
   "metadata": {
    "execution": {
     "iopub.execute_input": "2022-01-30T13:07:31.829094Z",
     "iopub.status.busy": "2022-01-30T13:07:31.828528Z",
     "iopub.status.idle": "2022-01-30T13:07:31.988002Z",
     "shell.execute_reply": "2022-01-30T13:07:31.987477Z",
     "shell.execute_reply.started": "2022-01-30T13:00:32.352879Z"
    },
    "papermill": {
     "duration": 0.200182,
     "end_time": "2022-01-30T13:07:31.988117",
     "exception": false,
     "start_time": "2022-01-30T13:07:31.787935",
     "status": "completed"
    },
    "tags": []
   },
   "outputs": [
    {
     "data": {
      "text/plain": [
       "Text(0.5, 1.0, 'Contact vs Count')"
      ]
     },
     "execution_count": 14,
     "metadata": {},
     "output_type": "execute_result"
    },
    {
     "data": {
      "image/png": "[encoded data removed]",
      "text/plain": [
       "<Figure size 432x288 with 1 Axes>"
      ]
     },
     "metadata": {
      "needs_background": "light"
     },
     "output_type": "display_data"
    }
   ],
   "source": [
    "sns.countplot(x=\"contact\", data = train_df, hue =\"y\")\n",
    "plt.title(\"Contact vs Count\")"
   ]
  },
  {
   "cell_type": "markdown",
   "metadata": {
    "papermill": {
     "duration": 0.038423,
     "end_time": "2022-01-30T13:07:32.065277",
     "exception": false,
     "start_time": "2022-01-30T13:07:32.026854",
     "status": "completed"
    },
    "tags": []
   },
   "source": [
    "**India is experiencing what banks in advanced countries have been doing for the past many years. Barclays chairman Anthony Jenkins warned of the Uber moment for banks a few years ago, and that is coming true.**\n",
    "\n",
    "\n"
   ]
  },
  {
   "cell_type": "code",
   "execution_count": 15,
   "metadata": {
    "execution": {
     "iopub.execute_input": "2022-01-30T13:07:32.146455Z",
     "iopub.status.busy": "2022-01-30T13:07:32.145542Z",
     "iopub.status.idle": "2022-01-30T13:07:32.375817Z",
     "shell.execute_reply": "2022-01-30T13:07:32.376375Z",
     "shell.execute_reply.started": "2022-01-30T13:00:32.556854Z"
    },
    "papermill": {
     "duration": 0.272427,
     "end_time": "2022-01-30T13:07:32.376519",
     "exception": false,
     "start_time": "2022-01-30T13:07:32.104092",
     "status": "completed"
    },
    "tags": []
   },
   "outputs": [
    {
     "data": {
      "image/png": "[encoded data removed]",
      "text/plain": [
       "<Figure size 432x360 with 1 Axes>"
      ]
     },
     "metadata": {},
     "output_type": "display_data"
    }
   ],
   "source": [
    "sns.set_style(style='darkgrid')\n",
    "sns.set(rc = {'figure.figsize':(6, 5)})\n",
    "poutcome = sns.countplot(x=\"poutcome\", data = train_df, hue = \"y\", order = train_df[\"poutcome\"].value_counts().index)\n",
    "poutcome.tick_params(axis='x', rotation=60)\n",
    "plt.title(\"Bivariate analysis of the relationship between 'poutcome' and 'y'\")\n",
    "plt.show()\n"
   ]
  },
  {
   "cell_type": "markdown",
   "metadata": {
    "papermill": {
     "duration": 0.039054,
     "end_time": "2022-01-30T13:07:32.455098",
     "exception": false,
     "start_time": "2022-01-30T13:07:32.416044",
     "status": "completed"
    },
    "tags": []
   },
   "source": [
    "**The Indian banking industry has been witnessing a slow transition from people-driven to machines controlled in the past few years. The technological development, which has made banking easier, has also led to a slowdown in the hiring of staff at banks. Although there have been hirings, the nature of skill sets required is changing with a lot more focus on the front end talent and more and more banking domain tasks can be through automated machine which would reduce the manual task and convert most of the work into digitalisation.**\n",
    "\n"
   ]
  },
  {
   "cell_type": "markdown",
   "metadata": {
    "papermill": {
     "duration": 0.040885,
     "end_time": "2022-01-30T13:07:32.535846",
     "exception": false,
     "start_time": "2022-01-30T13:07:32.494961",
     "status": "completed"
    },
    "tags": []
   },
   "source": [
    "![](https://encrypted-tbn0.gstatic.com/images?q=tbn:ANd9GcRqJhSNp6UfPhVwKh5BVzIn19VcfxExitu-EQ&usqp=CAU)"
   ]
  },
  {
   "cell_type": "code",
   "execution_count": 16,
   "metadata": {
    "execution": {
     "iopub.execute_input": "2022-01-30T13:07:32.622529Z",
     "iopub.status.busy": "2022-01-30T13:07:32.621401Z",
     "iopub.status.idle": "2022-01-30T13:07:33.066240Z",
     "shell.execute_reply": "2022-01-30T13:07:33.065732Z",
     "shell.execute_reply.started": "2022-01-30T13:00:32.794254Z"
    },
    "papermill": {
     "duration": 0.490397,
     "end_time": "2022-01-30T13:07:33.066363",
     "exception": false,
     "start_time": "2022-01-30T13:07:32.575966",
     "status": "completed"
    },
    "tags": []
   },
   "outputs": [
    {
     "data": {
      "text/plain": [
       "<matplotlib.axes._subplots.AxesSubplot at 0x7f8821954ed0>"
      ]
     },
     "execution_count": 16,
     "metadata": {},
     "output_type": "execute_result"
    },
    {
     "data": {
      "image/png": "[encoded data removed]",
      "text/plain": [
       "<Figure size 1152x864 with 2 Axes>"
      ]
     },
     "metadata": {},
     "output_type": "display_data"
    }
   ],
   "source": [
    "plt.figure(figsize=(16,12))\n",
    "correlation_matrix = train_df.corr()\n",
    "sns.heatmap(correlation_matrix, annot =True)\n"
   ]
  },
  {
   "cell_type": "markdown",
   "metadata": {
    "papermill": {
     "duration": 0.043326,
     "end_time": "2022-01-30T13:07:33.152348",
     "exception": false,
     "start_time": "2022-01-30T13:07:33.109022",
     "status": "completed"
    },
    "tags": []
   },
   "source": [
    "**There is no multicollinearity between independent variables.**"
   ]
  },
  {
   "cell_type": "markdown",
   "metadata": {
    "papermill": {
     "duration": 0.041805,
     "end_time": "2022-01-30T13:07:33.237222",
     "exception": false,
     "start_time": "2022-01-30T13:07:33.195417",
     "status": "completed"
    },
    "tags": []
   },
   "source": [
    "# Feature Encoding"
   ]
  },
  {
   "cell_type": "code",
   "execution_count": 17,
   "metadata": {
    "execution": {
     "iopub.execute_input": "2022-01-30T13:07:33.328538Z",
     "iopub.status.busy": "2022-01-30T13:07:33.327432Z",
     "iopub.status.idle": "2022-01-30T13:07:33.352847Z",
     "shell.execute_reply": "2022-01-30T13:07:33.352238Z",
     "shell.execute_reply.started": "2022-01-30T13:00:33.233141Z"
    },
    "papermill": {
     "duration": 0.07288,
     "end_time": "2022-01-30T13:07:33.352970",
     "exception": false,
     "start_time": "2022-01-30T13:07:33.280090",
     "status": "completed"
    },
    "tags": []
   },
   "outputs": [
    {
     "data": {
      "text/plain": [
       "(49732, 17)"
      ]
     },
     "execution_count": 17,
     "metadata": {},
     "output_type": "execute_result"
    }
   ],
   "source": [
    "#Combining training and testing data for the purpose of encoding\n",
    "df = pd.concat([train_df,test_df], ignore_index=True)\n",
    "df.shape"
   ]
  },
  {
   "cell_type": "code",
   "execution_count": 18,
   "metadata": {
    "execution": {
     "iopub.execute_input": "2022-01-30T13:07:33.444495Z",
     "iopub.status.busy": "2022-01-30T13:07:33.443880Z",
     "iopub.status.idle": "2022-01-30T13:07:33.529806Z",
     "shell.execute_reply": "2022-01-30T13:07:33.529327Z",
     "shell.execute_reply.started": "2022-01-30T13:00:33.259289Z"
    },
    "papermill": {
     "duration": 0.133783,
     "end_time": "2022-01-30T13:07:33.529924",
     "exception": false,
     "start_time": "2022-01-30T13:07:33.396141",
     "status": "completed"
    },
    "tags": []
   },
   "outputs": [
    {
     "data": {
      "text/html": [
       "<div>\n",
       "<style scoped>\n",
       "    .dataframe tbody tr th:only-of-type {\n",
       "        vertical-align: middle;\n",
       "    }\n",
       "\n",
       "    .dataframe tbody tr th {\n",
       "        vertical-align: top;\n",
       "    }\n",
       "\n",
       "    .dataframe thead th {\n",
       "        text-align: right;\n",
       "    }\n",
       "</style>\n",
       "<table border=\"1\" class=\"dataframe\">\n",
       "  <thead>\n",
       "    <tr style=\"text-align: right;\">\n",
       "      <th></th>\n",
       "      <th>age</th>\n",
       "      <th>balance</th>\n",
       "      <th>day</th>\n",
       "      <th>duration</th>\n",
       "      <th>campaign</th>\n",
       "      <th>pdays</th>\n",
       "      <th>previous</th>\n",
       "      <th>y</th>\n",
       "      <th>job_blue-collar</th>\n",
       "      <th>job_entrepreneur</th>\n",
       "      <th>...</th>\n",
       "      <th>month_may</th>\n",
       "      <th>month_nov</th>\n",
       "      <th>month_oct</th>\n",
       "      <th>month_sep</th>\n",
       "      <th>loan_yes</th>\n",
       "      <th>contact_telephone</th>\n",
       "      <th>contact_unknown</th>\n",
       "      <th>poutcome_other</th>\n",
       "      <th>poutcome_success</th>\n",
       "      <th>poutcome_unknown</th>\n",
       "    </tr>\n",
       "  </thead>\n",
       "  <tbody>\n",
       "    <tr>\n",
       "      <th>0</th>\n",
       "      <td>58</td>\n",
       "      <td>2143</td>\n",
       "      <td>5</td>\n",
       "      <td>261</td>\n",
       "      <td>1</td>\n",
       "      <td>-1</td>\n",
       "      <td>0</td>\n",
       "      <td>no</td>\n",
       "      <td>0</td>\n",
       "      <td>0</td>\n",
       "      <td>...</td>\n",
       "      <td>1</td>\n",
       "      <td>0</td>\n",
       "      <td>0</td>\n",
       "      <td>0</td>\n",
       "      <td>0</td>\n",
       "      <td>0</td>\n",
       "      <td>1</td>\n",
       "      <td>0</td>\n",
       "      <td>0</td>\n",
       "      <td>1</td>\n",
       "    </tr>\n",
       "    <tr>\n",
       "      <th>1</th>\n",
       "      <td>44</td>\n",
       "      <td>29</td>\n",
       "      <td>5</td>\n",
       "      <td>151</td>\n",
       "      <td>1</td>\n",
       "      <td>-1</td>\n",
       "      <td>0</td>\n",
       "      <td>no</td>\n",
       "      <td>0</td>\n",
       "      <td>0</td>\n",
       "      <td>...</td>\n",
       "      <td>1</td>\n",
       "      <td>0</td>\n",
       "      <td>0</td>\n",
       "      <td>0</td>\n",
       "      <td>0</td>\n",
       "      <td>0</td>\n",
       "      <td>1</td>\n",
       "      <td>0</td>\n",
       "      <td>0</td>\n",
       "      <td>1</td>\n",
       "    </tr>\n",
       "    <tr>\n",
       "      <th>2</th>\n",
       "      <td>33</td>\n",
       "      <td>2</td>\n",
       "      <td>5</td>\n",
       "      <td>76</td>\n",
       "      <td>1</td>\n",
       "      <td>-1</td>\n",
       "      <td>0</td>\n",
       "      <td>no</td>\n",
       "      <td>0</td>\n",
       "      <td>1</td>\n",
       "      <td>...</td>\n",
       "      <td>1</td>\n",
       "      <td>0</td>\n",
       "      <td>0</td>\n",
       "      <td>0</td>\n",
       "      <td>1</td>\n",
       "      <td>0</td>\n",
       "      <td>1</td>\n",
       "      <td>0</td>\n",
       "      <td>0</td>\n",
       "      <td>1</td>\n",
       "    </tr>\n",
       "    <tr>\n",
       "      <th>3</th>\n",
       "      <td>47</td>\n",
       "      <td>1506</td>\n",
       "      <td>5</td>\n",
       "      <td>92</td>\n",
       "      <td>1</td>\n",
       "      <td>-1</td>\n",
       "      <td>0</td>\n",
       "      <td>no</td>\n",
       "      <td>1</td>\n",
       "      <td>0</td>\n",
       "      <td>...</td>\n",
       "      <td>1</td>\n",
       "      <td>0</td>\n",
       "      <td>0</td>\n",
       "      <td>0</td>\n",
       "      <td>0</td>\n",
       "      <td>0</td>\n",
       "      <td>1</td>\n",
       "      <td>0</td>\n",
       "      <td>0</td>\n",
       "      <td>1</td>\n",
       "    </tr>\n",
       "    <tr>\n",
       "      <th>4</th>\n",
       "      <td>33</td>\n",
       "      <td>1</td>\n",
       "      <td>5</td>\n",
       "      <td>198</td>\n",
       "      <td>1</td>\n",
       "      <td>-1</td>\n",
       "      <td>0</td>\n",
       "      <td>no</td>\n",
       "      <td>0</td>\n",
       "      <td>0</td>\n",
       "      <td>...</td>\n",
       "      <td>1</td>\n",
       "      <td>0</td>\n",
       "      <td>0</td>\n",
       "      <td>0</td>\n",
       "      <td>0</td>\n",
       "      <td>0</td>\n",
       "      <td>1</td>\n",
       "      <td>0</td>\n",
       "      <td>0</td>\n",
       "      <td>1</td>\n",
       "    </tr>\n",
       "  </tbody>\n",
       "</table>\n",
       "<p>5 rows × 43 columns</p>\n",
       "</div>"
      ],
      "text/plain": [
       "   age  balance  day  duration  campaign  pdays  previous   y  \\\n",
       "0   58     2143    5       261         1     -1         0  no   \n",
       "1   44       29    5       151         1     -1         0  no   \n",
       "2   33        2    5        76         1     -1         0  no   \n",
       "3   47     1506    5        92         1     -1         0  no   \n",
       "4   33        1    5       198         1     -1         0  no   \n",
       "\n",
       "   job_blue-collar  job_entrepreneur  ...  month_may  month_nov  month_oct  \\\n",
       "0                0                 0  ...          1          0          0   \n",
       "1                0                 0  ...          1          0          0   \n",
       "2                0                 1  ...          1          0          0   \n",
       "3                1                 0  ...          1          0          0   \n",
       "4                0                 0  ...          1          0          0   \n",
       "\n",
       "   month_sep  loan_yes  contact_telephone  contact_unknown  poutcome_other  \\\n",
       "0          0         0                  0                1               0   \n",
       "1          0         0                  0                1               0   \n",
       "2          0         1                  0                1               0   \n",
       "3          0         0                  0                1               0   \n",
       "4          0         0                  0                1               0   \n",
       "\n",
       "   poutcome_success  poutcome_unknown  \n",
       "0                 0                 1  \n",
       "1                 0                 1  \n",
       "2                 0                 1  \n",
       "3                 0                 1  \n",
       "4                 0                 1  \n",
       "\n",
       "[5 rows x 43 columns]"
      ]
     },
     "execution_count": 18,
     "metadata": {},
     "output_type": "execute_result"
    }
   ],
   "source": [
    "df = pd.get_dummies(df,columns = ['job','marital','education','default','housing','month','loan','contact','poutcome'], drop_first = True)\n",
    "df.head()"
   ]
  },
  {
   "cell_type": "code",
   "execution_count": 19,
   "metadata": {
    "execution": {
     "iopub.execute_input": "2022-01-30T13:07:33.664908Z",
     "iopub.status.busy": "2022-01-30T13:07:33.664278Z",
     "iopub.status.idle": "2022-01-30T13:07:33.696428Z",
     "shell.execute_reply": "2022-01-30T13:07:33.696984Z",
     "shell.execute_reply.started": "2022-01-30T13:00:33.345603Z"
    },
    "papermill": {
     "duration": 0.124732,
     "end_time": "2022-01-30T13:07:33.697117",
     "exception": false,
     "start_time": "2022-01-30T13:07:33.572385",
     "status": "completed"
    },
    "tags": []
   },
   "outputs": [
    {
     "data": {
      "text/html": [
       "<div>\n",
       "<style scoped>\n",
       "    .dataframe tbody tr th:only-of-type {\n",
       "        vertical-align: middle;\n",
       "    }\n",
       "\n",
       "    .dataframe tbody tr th {\n",
       "        vertical-align: top;\n",
       "    }\n",
       "\n",
       "    .dataframe thead th {\n",
       "        text-align: right;\n",
       "    }\n",
       "</style>\n",
       "<table border=\"1\" class=\"dataframe\">\n",
       "  <thead>\n",
       "    <tr style=\"text-align: right;\">\n",
       "      <th></th>\n",
       "      <th>age</th>\n",
       "      <th>balance</th>\n",
       "      <th>day</th>\n",
       "      <th>duration</th>\n",
       "      <th>campaign</th>\n",
       "      <th>pdays</th>\n",
       "      <th>previous</th>\n",
       "      <th>y</th>\n",
       "      <th>job_blue-collar</th>\n",
       "      <th>job_entrepreneur</th>\n",
       "      <th>...</th>\n",
       "      <th>month_may</th>\n",
       "      <th>month_nov</th>\n",
       "      <th>month_oct</th>\n",
       "      <th>month_sep</th>\n",
       "      <th>loan_yes</th>\n",
       "      <th>contact_telephone</th>\n",
       "      <th>contact_unknown</th>\n",
       "      <th>poutcome_other</th>\n",
       "      <th>poutcome_success</th>\n",
       "      <th>poutcome_unknown</th>\n",
       "    </tr>\n",
       "  </thead>\n",
       "  <tbody>\n",
       "    <tr>\n",
       "      <th>0</th>\n",
       "      <td>58</td>\n",
       "      <td>2143</td>\n",
       "      <td>5</td>\n",
       "      <td>261</td>\n",
       "      <td>1</td>\n",
       "      <td>-1</td>\n",
       "      <td>0</td>\n",
       "      <td>0</td>\n",
       "      <td>0</td>\n",
       "      <td>0</td>\n",
       "      <td>...</td>\n",
       "      <td>1</td>\n",
       "      <td>0</td>\n",
       "      <td>0</td>\n",
       "      <td>0</td>\n",
       "      <td>0</td>\n",
       "      <td>0</td>\n",
       "      <td>1</td>\n",
       "      <td>0</td>\n",
       "      <td>0</td>\n",
       "      <td>1</td>\n",
       "    </tr>\n",
       "    <tr>\n",
       "      <th>1</th>\n",
       "      <td>44</td>\n",
       "      <td>29</td>\n",
       "      <td>5</td>\n",
       "      <td>151</td>\n",
       "      <td>1</td>\n",
       "      <td>-1</td>\n",
       "      <td>0</td>\n",
       "      <td>0</td>\n",
       "      <td>0</td>\n",
       "      <td>0</td>\n",
       "      <td>...</td>\n",
       "      <td>1</td>\n",
       "      <td>0</td>\n",
       "      <td>0</td>\n",
       "      <td>0</td>\n",
       "      <td>0</td>\n",
       "      <td>0</td>\n",
       "      <td>1</td>\n",
       "      <td>0</td>\n",
       "      <td>0</td>\n",
       "      <td>1</td>\n",
       "    </tr>\n",
       "    <tr>\n",
       "      <th>2</th>\n",
       "      <td>33</td>\n",
       "      <td>2</td>\n",
       "      <td>5</td>\n",
       "      <td>76</td>\n",
       "      <td>1</td>\n",
       "      <td>-1</td>\n",
       "      <td>0</td>\n",
       "      <td>0</td>\n",
       "      <td>0</td>\n",
       "      <td>1</td>\n",
       "      <td>...</td>\n",
       "      <td>1</td>\n",
       "      <td>0</td>\n",
       "      <td>0</td>\n",
       "      <td>0</td>\n",
       "      <td>1</td>\n",
       "      <td>0</td>\n",
       "      <td>1</td>\n",
       "      <td>0</td>\n",
       "      <td>0</td>\n",
       "      <td>1</td>\n",
       "    </tr>\n",
       "    <tr>\n",
       "      <th>3</th>\n",
       "      <td>47</td>\n",
       "      <td>1506</td>\n",
       "      <td>5</td>\n",
       "      <td>92</td>\n",
       "      <td>1</td>\n",
       "      <td>-1</td>\n",
       "      <td>0</td>\n",
       "      <td>0</td>\n",
       "      <td>1</td>\n",
       "      <td>0</td>\n",
       "      <td>...</td>\n",
       "      <td>1</td>\n",
       "      <td>0</td>\n",
       "      <td>0</td>\n",
       "      <td>0</td>\n",
       "      <td>0</td>\n",
       "      <td>0</td>\n",
       "      <td>1</td>\n",
       "      <td>0</td>\n",
       "      <td>0</td>\n",
       "      <td>1</td>\n",
       "    </tr>\n",
       "    <tr>\n",
       "      <th>4</th>\n",
       "      <td>33</td>\n",
       "      <td>1</td>\n",
       "      <td>5</td>\n",
       "      <td>198</td>\n",
       "      <td>1</td>\n",
       "      <td>-1</td>\n",
       "      <td>0</td>\n",
       "      <td>0</td>\n",
       "      <td>0</td>\n",
       "      <td>0</td>\n",
       "      <td>...</td>\n",
       "      <td>1</td>\n",
       "      <td>0</td>\n",
       "      <td>0</td>\n",
       "      <td>0</td>\n",
       "      <td>0</td>\n",
       "      <td>0</td>\n",
       "      <td>1</td>\n",
       "      <td>0</td>\n",
       "      <td>0</td>\n",
       "      <td>1</td>\n",
       "    </tr>\n",
       "  </tbody>\n",
       "</table>\n",
       "<p>5 rows × 43 columns</p>\n",
       "</div>"
      ],
      "text/plain": [
       "   age  balance  day  duration  campaign  pdays  previous  y  job_blue-collar  \\\n",
       "0   58     2143    5       261         1     -1         0  0                0   \n",
       "1   44       29    5       151         1     -1         0  0                0   \n",
       "2   33        2    5        76         1     -1         0  0                0   \n",
       "3   47     1506    5        92         1     -1         0  0                1   \n",
       "4   33        1    5       198         1     -1         0  0                0   \n",
       "\n",
       "   job_entrepreneur  ...  month_may  month_nov  month_oct  month_sep  \\\n",
       "0                 0  ...          1          0          0          0   \n",
       "1                 0  ...          1          0          0          0   \n",
       "2                 1  ...          1          0          0          0   \n",
       "3                 0  ...          1          0          0          0   \n",
       "4                 0  ...          1          0          0          0   \n",
       "\n",
       "   loan_yes  contact_telephone  contact_unknown  poutcome_other  \\\n",
       "0         0                  0                1               0   \n",
       "1         0                  0                1               0   \n",
       "2         1                  0                1               0   \n",
       "3         0                  0                1               0   \n",
       "4         0                  0                1               0   \n",
       "\n",
       "   poutcome_success  poutcome_unknown  \n",
       "0                 0                 1  \n",
       "1                 0                 1  \n",
       "2                 0                 1  \n",
       "3                 0                 1  \n",
       "4                 0                 1  \n",
       "\n",
       "[5 rows x 43 columns]"
      ]
     },
     "execution_count": 19,
     "metadata": {},
     "output_type": "execute_result"
    }
   ],
   "source": [
    "df['y'].replace('yes', 1, inplace=True)\n",
    "df['y'].replace('no', 0, inplace=True)\n",
    "df.head()"
   ]
  },
  {
   "cell_type": "code",
   "execution_count": 20,
   "metadata": {
    "execution": {
     "iopub.execute_input": "2022-01-30T13:07:33.786330Z",
     "iopub.status.busy": "2022-01-30T13:07:33.785751Z",
     "iopub.status.idle": "2022-01-30T13:07:33.867677Z",
     "shell.execute_reply": "2022-01-30T13:07:33.867042Z",
     "shell.execute_reply.started": "2022-01-30T13:00:33.396144Z"
    },
    "papermill": {
     "duration": 0.12771,
     "end_time": "2022-01-30T13:07:33.867790",
     "exception": false,
     "start_time": "2022-01-30T13:07:33.740080",
     "status": "completed"
    },
    "tags": []
   },
   "outputs": [
    {
     "data": {
      "text/html": [
       "<div>\n",
       "<style scoped>\n",
       "    .dataframe tbody tr th:only-of-type {\n",
       "        vertical-align: middle;\n",
       "    }\n",
       "\n",
       "    .dataframe tbody tr th {\n",
       "        vertical-align: top;\n",
       "    }\n",
       "\n",
       "    .dataframe thead tr th {\n",
       "        text-align: left;\n",
       "    }\n",
       "</style>\n",
       "<table border=\"1\" class=\"dataframe\">\n",
       "  <thead>\n",
       "    <tr>\n",
       "      <th></th>\n",
       "      <th>age</th>\n",
       "      <th>balance</th>\n",
       "      <th>day</th>\n",
       "      <th>duration</th>\n",
       "      <th>campaign</th>\n",
       "      <th>pdays</th>\n",
       "      <th>previous</th>\n",
       "      <th>job_blue-collar</th>\n",
       "      <th>job_entrepreneur</th>\n",
       "      <th>job_housemaid</th>\n",
       "      <th>...</th>\n",
       "      <th>month_may</th>\n",
       "      <th>month_nov</th>\n",
       "      <th>month_oct</th>\n",
       "      <th>month_sep</th>\n",
       "      <th>loan_yes</th>\n",
       "      <th>contact_telephone</th>\n",
       "      <th>contact_unknown</th>\n",
       "      <th>poutcome_other</th>\n",
       "      <th>poutcome_success</th>\n",
       "      <th>poutcome_unknown</th>\n",
       "    </tr>\n",
       "  </thead>\n",
       "  <tbody>\n",
       "    <tr>\n",
       "      <th>0</th>\n",
       "      <td>0.519481</td>\n",
       "      <td>0.092259</td>\n",
       "      <td>0.133333</td>\n",
       "      <td>0.053070</td>\n",
       "      <td>0.0</td>\n",
       "      <td>0.0</td>\n",
       "      <td>0.0</td>\n",
       "      <td>0.0</td>\n",
       "      <td>0.0</td>\n",
       "      <td>0.0</td>\n",
       "      <td>...</td>\n",
       "      <td>1.0</td>\n",
       "      <td>0.0</td>\n",
       "      <td>0.0</td>\n",
       "      <td>0.0</td>\n",
       "      <td>0.0</td>\n",
       "      <td>0.0</td>\n",
       "      <td>1.0</td>\n",
       "      <td>0.0</td>\n",
       "      <td>0.0</td>\n",
       "      <td>1.0</td>\n",
       "    </tr>\n",
       "    <tr>\n",
       "      <th>1</th>\n",
       "      <td>0.337662</td>\n",
       "      <td>0.073067</td>\n",
       "      <td>0.133333</td>\n",
       "      <td>0.030704</td>\n",
       "      <td>0.0</td>\n",
       "      <td>0.0</td>\n",
       "      <td>0.0</td>\n",
       "      <td>0.0</td>\n",
       "      <td>0.0</td>\n",
       "      <td>0.0</td>\n",
       "      <td>...</td>\n",
       "      <td>1.0</td>\n",
       "      <td>0.0</td>\n",
       "      <td>0.0</td>\n",
       "      <td>0.0</td>\n",
       "      <td>0.0</td>\n",
       "      <td>0.0</td>\n",
       "      <td>1.0</td>\n",
       "      <td>0.0</td>\n",
       "      <td>0.0</td>\n",
       "      <td>1.0</td>\n",
       "    </tr>\n",
       "    <tr>\n",
       "      <th>2</th>\n",
       "      <td>0.194805</td>\n",
       "      <td>0.072822</td>\n",
       "      <td>0.133333</td>\n",
       "      <td>0.015453</td>\n",
       "      <td>0.0</td>\n",
       "      <td>0.0</td>\n",
       "      <td>0.0</td>\n",
       "      <td>0.0</td>\n",
       "      <td>1.0</td>\n",
       "      <td>0.0</td>\n",
       "      <td>...</td>\n",
       "      <td>1.0</td>\n",
       "      <td>0.0</td>\n",
       "      <td>0.0</td>\n",
       "      <td>0.0</td>\n",
       "      <td>1.0</td>\n",
       "      <td>0.0</td>\n",
       "      <td>1.0</td>\n",
       "      <td>0.0</td>\n",
       "      <td>0.0</td>\n",
       "      <td>1.0</td>\n",
       "    </tr>\n",
       "    <tr>\n",
       "      <th>3</th>\n",
       "      <td>0.376623</td>\n",
       "      <td>0.086476</td>\n",
       "      <td>0.133333</td>\n",
       "      <td>0.018707</td>\n",
       "      <td>0.0</td>\n",
       "      <td>0.0</td>\n",
       "      <td>0.0</td>\n",
       "      <td>1.0</td>\n",
       "      <td>0.0</td>\n",
       "      <td>0.0</td>\n",
       "      <td>...</td>\n",
       "      <td>1.0</td>\n",
       "      <td>0.0</td>\n",
       "      <td>0.0</td>\n",
       "      <td>0.0</td>\n",
       "      <td>0.0</td>\n",
       "      <td>0.0</td>\n",
       "      <td>1.0</td>\n",
       "      <td>0.0</td>\n",
       "      <td>0.0</td>\n",
       "      <td>1.0</td>\n",
       "    </tr>\n",
       "    <tr>\n",
       "      <th>4</th>\n",
       "      <td>0.194805</td>\n",
       "      <td>0.072812</td>\n",
       "      <td>0.133333</td>\n",
       "      <td>0.040260</td>\n",
       "      <td>0.0</td>\n",
       "      <td>0.0</td>\n",
       "      <td>0.0</td>\n",
       "      <td>0.0</td>\n",
       "      <td>0.0</td>\n",
       "      <td>0.0</td>\n",
       "      <td>...</td>\n",
       "      <td>1.0</td>\n",
       "      <td>0.0</td>\n",
       "      <td>0.0</td>\n",
       "      <td>0.0</td>\n",
       "      <td>0.0</td>\n",
       "      <td>0.0</td>\n",
       "      <td>1.0</td>\n",
       "      <td>0.0</td>\n",
       "      <td>0.0</td>\n",
       "      <td>1.0</td>\n",
       "    </tr>\n",
       "  </tbody>\n",
       "</table>\n",
       "<p>5 rows × 42 columns</p>\n",
       "</div>"
      ],
      "text/plain": [
       "        age   balance       day  duration campaign pdays previous  \\\n",
       "0  0.519481  0.092259  0.133333  0.053070      0.0   0.0      0.0   \n",
       "1  0.337662  0.073067  0.133333  0.030704      0.0   0.0      0.0   \n",
       "2  0.194805  0.072822  0.133333  0.015453      0.0   0.0      0.0   \n",
       "3  0.376623  0.086476  0.133333  0.018707      0.0   0.0      0.0   \n",
       "4  0.194805  0.072812  0.133333  0.040260      0.0   0.0      0.0   \n",
       "\n",
       "  job_blue-collar job_entrepreneur job_housemaid  ... month_may month_nov  \\\n",
       "0             0.0              0.0           0.0  ...       1.0       0.0   \n",
       "1             0.0              0.0           0.0  ...       1.0       0.0   \n",
       "2             0.0              1.0           0.0  ...       1.0       0.0   \n",
       "3             1.0              0.0           0.0  ...       1.0       0.0   \n",
       "4             0.0              0.0           0.0  ...       1.0       0.0   \n",
       "\n",
       "  month_oct month_sep loan_yes contact_telephone contact_unknown  \\\n",
       "0       0.0       0.0      0.0               0.0             1.0   \n",
       "1       0.0       0.0      0.0               0.0             1.0   \n",
       "2       0.0       0.0      1.0               0.0             1.0   \n",
       "3       0.0       0.0      0.0               0.0             1.0   \n",
       "4       0.0       0.0      0.0               0.0             1.0   \n",
       "\n",
       "  poutcome_other poutcome_success poutcome_unknown  \n",
       "0            0.0              0.0              1.0  \n",
       "1            0.0              0.0              1.0  \n",
       "2            0.0              0.0              1.0  \n",
       "3            0.0              0.0              1.0  \n",
       "4            0.0              0.0              1.0  \n",
       "\n",
       "[5 rows x 42 columns]"
      ]
     },
     "execution_count": 20,
     "metadata": {},
     "output_type": "execute_result"
    }
   ],
   "source": [
    "#from sklearn.preprocessing import MinMaxScaler\n",
    "target = df['y']\n",
    "df = df.drop('y',axis = 1)\n",
    "columns = df.columns\n",
    "scaler = MinMaxScaler()\n",
    "df = scaler.fit_transform(df)\n",
    "df = pd.DataFrame(df,columns=[columns])\n",
    "df.head()"
   ]
  },
  {
   "cell_type": "code",
   "execution_count": 21,
   "metadata": {
    "execution": {
     "iopub.execute_input": "2022-01-30T13:07:33.962437Z",
     "iopub.status.busy": "2022-01-30T13:07:33.960904Z",
     "iopub.status.idle": "2022-01-30T13:07:33.979471Z",
     "shell.execute_reply": "2022-01-30T13:07:33.980001Z",
     "shell.execute_reply.started": "2022-01-30T13:00:33.464597Z"
    },
    "papermill": {
     "duration": 0.068696,
     "end_time": "2022-01-30T13:07:33.980145",
     "exception": false,
     "start_time": "2022-01-30T13:07:33.911449",
     "status": "completed"
    },
    "tags": []
   },
   "outputs": [],
   "source": [
    "y = np.array(target)\n",
    "X = df\n",
    "\n",
    "#Splitting the data into train and test data\n",
    "X_train, X_test, y_train, y_test = train_test_split(X,y,test_size = 0.25, random_state = 20)"
   ]
  },
  {
   "cell_type": "markdown",
   "metadata": {
    "papermill": {
     "duration": 0.044617,
     "end_time": "2022-01-30T13:07:34.069331",
     "exception": false,
     "start_time": "2022-01-30T13:07:34.024714",
     "status": "completed"
    },
    "tags": []
   },
   "source": [
    "# Model Building"
   ]
  },
  {
   "cell_type": "markdown",
   "metadata": {},
   "source": [
    "[](https://miro.medium.com/max/2000/1*q7popEzTvIQgwbw71MSjzQ.png)"
   ]
  },
  {
   "cell_type": "markdown",
   "metadata": {
    "papermill": {
     "duration": 0.043737,
     "end_time": "2022-01-30T13:07:34.245685",
     "exception": false,
     "start_time": "2022-01-30T13:07:34.201948",
     "status": "completed"
    },
    "tags": []
   },
   "source": [
    "# 1. Logistic Regression"
   ]
  },
  {
   "cell_type": "code",
   "execution_count": 22,
   "metadata": {
    "execution": {
     "iopub.execute_input": "2022-01-30T13:07:34.336651Z",
     "iopub.status.busy": "2022-01-30T13:07:34.336018Z",
     "iopub.status.idle": "2022-01-30T13:07:34.884152Z",
     "shell.execute_reply": "2022-01-30T13:07:34.884786Z",
     "shell.execute_reply.started": "2022-01-30T13:00:33.490027Z"
    },
    "papermill": {
     "duration": 0.595821,
     "end_time": "2022-01-30T13:07:34.884978",
     "exception": false,
     "start_time": "2022-01-30T13:07:34.289157",
     "status": "completed"
    },
    "tags": []
   },
   "outputs": [],
   "source": [
    "#Initializing and fitting the logistic regression model\n",
    "lr_model = LogisticRegression(max_iter=125)\n",
    "lr_model.fit(X_train,y_train)\n",
    "y_pred = lr_model.predict(X_test)"
   ]
  },
  {
   "cell_type": "code",
   "execution_count": 23,
   "metadata": {
    "execution": {
     "iopub.execute_input": "2022-01-30T13:07:34.981203Z",
     "iopub.status.busy": "2022-01-30T13:07:34.980143Z",
     "iopub.status.idle": "2022-01-30T13:07:34.984486Z",
     "shell.execute_reply": "2022-01-30T13:07:34.985039Z",
     "shell.execute_reply.started": "2022-01-30T13:00:33.990064Z"
    },
    "papermill": {
     "duration": 0.053698,
     "end_time": "2022-01-30T13:07:34.985185",
     "exception": false,
     "start_time": "2022-01-30T13:07:34.931487",
     "status": "completed"
    },
    "tags": []
   },
   "outputs": [
    {
     "data": {
      "text/plain": [
       "89.93002493364433"
      ]
     },
     "execution_count": 23,
     "metadata": {},
     "output_type": "execute_result"
    }
   ],
   "source": [
    "accuracy_score(y_test,y_pred)*100"
   ]
  },
  {
   "cell_type": "markdown",
   "metadata": {
    "papermill": {
     "duration": 0.046294,
     "end_time": "2022-01-30T13:07:35.075101",
     "exception": false,
     "start_time": "2022-01-30T13:07:35.028807",
     "status": "completed"
    },
    "tags": []
   },
   "source": [
    "**The accuracy of the logistic regression model is 90%**"
   ]
  },
  {
   "cell_type": "markdown",
   "metadata": {
    "papermill": {
     "duration": 0.043659,
     "end_time": "2022-01-30T13:07:35.162529",
     "exception": false,
     "start_time": "2022-01-30T13:07:35.118870",
     "status": "completed"
    },
    "tags": []
   },
   "source": [
    "**Lets try with Support Vector Machine**"
   ]
  },
  {
   "cell_type": "markdown",
   "metadata": {
    "papermill": {
     "duration": 0.043751,
     "end_time": "2022-01-30T13:07:35.250857",
     "exception": false,
     "start_time": "2022-01-30T13:07:35.207106",
     "status": "completed"
    },
    "tags": []
   },
   "source": [
    "# 2. SVM"
   ]
  },
  {
   "cell_type": "code",
   "execution_count": 24,
   "metadata": {
    "execution": {
     "iopub.execute_input": "2022-01-30T13:07:35.341245Z",
     "iopub.status.busy": "2022-01-30T13:07:35.340676Z",
     "iopub.status.idle": "2022-01-30T13:08:07.004124Z",
     "shell.execute_reply": "2022-01-30T13:08:07.003522Z",
     "shell.execute_reply.started": "2022-01-30T13:00:33.998368Z"
    },
    "papermill": {
     "duration": 31.709788,
     "end_time": "2022-01-30T13:08:07.004255",
     "exception": false,
     "start_time": "2022-01-30T13:07:35.294467",
     "status": "completed"
    },
    "tags": []
   },
   "outputs": [],
   "source": [
    "clf = SVC(kernel = 'linear')\n",
    "clf.fit(X_train, y_train)\n",
    "y_pred_svc = clf.predict(X_test)"
   ]
  },
  {
   "cell_type": "code",
   "execution_count": 25,
   "metadata": {
    "execution": {
     "iopub.execute_input": "2022-01-30T13:08:07.097883Z",
     "iopub.status.busy": "2022-01-30T13:08:07.097244Z",
     "iopub.status.idle": "2022-01-30T13:08:07.121159Z",
     "shell.execute_reply": "2022-01-30T13:08:07.120462Z",
     "shell.execute_reply.started": "2022-01-30T13:01:07.600542Z"
    },
    "papermill": {
     "duration": 0.072477,
     "end_time": "2022-01-30T13:08:07.121338",
     "exception": false,
     "start_time": "2022-01-30T13:08:07.048861",
     "status": "completed"
    },
    "tags": []
   },
   "outputs": [
    {
     "name": "stdout",
     "output_type": "stream",
     "text": [
      "              precision    recall  f1-score   support\n",
      "\n",
      "           0       0.90      0.99      0.94     10938\n",
      "           1       0.66      0.19      0.30      1495\n",
      "\n",
      "    accuracy                           0.89     12433\n",
      "   macro avg       0.78      0.59      0.62     12433\n",
      "weighted avg       0.87      0.89      0.86     12433\n",
      "\n"
     ]
    }
   ],
   "source": [
    "print(classification_report(y_test, y_pred_svc))"
   ]
  },
  {
   "cell_type": "code",
   "execution_count": 26,
   "metadata": {
    "execution": {
     "iopub.execute_input": "2022-01-30T13:08:07.221889Z",
     "iopub.status.busy": "2022-01-30T13:08:07.221218Z",
     "iopub.status.idle": "2022-01-30T13:08:07.227461Z",
     "shell.execute_reply": "2022-01-30T13:08:07.226850Z",
     "shell.execute_reply.started": "2022-01-30T13:01:07.627081Z"
    },
    "papermill": {
     "duration": 0.057334,
     "end_time": "2022-01-30T13:08:07.227605",
     "exception": false,
     "start_time": "2022-01-30T13:08:07.170271",
     "status": "completed"
    },
    "tags": []
   },
   "outputs": [
    {
     "data": {
      "text/plain": [
       "0.8907745515965575"
      ]
     },
     "execution_count": 26,
     "metadata": {},
     "output_type": "execute_result"
    }
   ],
   "source": [
    "accuracy_score(y_test, y_pred_svc)"
   ]
  },
  {
   "cell_type": "markdown",
   "metadata": {
    "papermill": {
     "duration": 0.043844,
     "end_time": "2022-01-30T13:08:07.315793",
     "exception": false,
     "start_time": "2022-01-30T13:08:07.271949",
     "status": "completed"
    },
    "tags": []
   },
   "source": [
    "# 3. DECISION TREE CLASSIFIER"
   ]
  },
  {
   "cell_type": "code",
   "execution_count": 27,
   "metadata": {
    "execution": {
     "iopub.execute_input": "2022-01-30T13:08:07.409523Z",
     "iopub.status.busy": "2022-01-30T13:08:07.408915Z",
     "iopub.status.idle": "2022-01-30T13:08:07.649689Z",
     "shell.execute_reply": "2022-01-30T13:08:07.649065Z",
     "shell.execute_reply.started": "2022-01-30T13:01:07.636893Z"
    },
    "papermill": {
     "duration": 0.289821,
     "end_time": "2022-01-30T13:08:07.649803",
     "exception": false,
     "start_time": "2022-01-30T13:08:07.359982",
     "status": "completed"
    },
    "tags": []
   },
   "outputs": [
    {
     "data": {
      "text/plain": [
       "DecisionTreeClassifier(criterion='entropy', max_depth=6, random_state=123)"
      ]
     },
     "execution_count": 27,
     "metadata": {},
     "output_type": "execute_result"
    }
   ],
   "source": [
    "from sklearn.tree import DecisionTreeClassifier\n",
    "np.random.seed(42)\n",
    "dtree = DecisionTreeClassifier(max_depth=6, random_state=123,criterion='entropy')\n",
    "\n",
    "dtree.fit(X_train,y_train)\n"
   ]
  },
  {
   "cell_type": "code",
   "execution_count": 28,
   "metadata": {
    "execution": {
     "iopub.execute_input": "2022-01-30T13:08:07.745816Z",
     "iopub.status.busy": "2022-01-30T13:08:07.744751Z",
     "iopub.status.idle": "2022-01-30T13:08:07.768419Z",
     "shell.execute_reply": "2022-01-30T13:08:07.768943Z",
     "shell.execute_reply.started": "2022-01-30T13:01:07.825494Z"
    },
    "papermill": {
     "duration": 0.074756,
     "end_time": "2022-01-30T13:08:07.769084",
     "exception": false,
     "start_time": "2022-01-30T13:08:07.694328",
     "status": "completed"
    },
    "tags": []
   },
   "outputs": [
    {
     "name": "stdout",
     "output_type": "stream",
     "text": [
      "              precision    recall  f1-score   support\n",
      "\n",
      "           0       0.91      0.98      0.94     10938\n",
      "           1       0.66      0.33      0.44      1495\n",
      "\n",
      "    accuracy                           0.90     12433\n",
      "   macro avg       0.79      0.65      0.69     12433\n",
      "weighted avg       0.88      0.90      0.88     12433\n",
      "\n"
     ]
    }
   ],
   "source": [
    "print(classification_report(y_test, y_pred))"
   ]
  },
  {
   "cell_type": "code",
   "execution_count": 29,
   "metadata": {
    "execution": {
     "iopub.execute_input": "2022-01-30T13:08:07.861892Z",
     "iopub.status.busy": "2022-01-30T13:08:07.861265Z",
     "iopub.status.idle": "2022-01-30T13:08:07.878445Z",
     "shell.execute_reply": "2022-01-30T13:08:07.879076Z",
     "shell.execute_reply.started": "2022-01-30T13:01:07.856847Z"
    },
    "papermill": {
     "duration": 0.065307,
     "end_time": "2022-01-30T13:08:07.879218",
     "exception": false,
     "start_time": "2022-01-30T13:08:07.813911",
     "status": "completed"
    },
    "tags": []
   },
   "outputs": [
    {
     "name": "stdout",
     "output_type": "stream",
     "text": [
      "[[10686   252]\n",
      " [ 1000   495]]\n"
     ]
    }
   ],
   "source": [
    "print(confusion_matrix(y_test,y_pred))"
   ]
  },
  {
   "cell_type": "code",
   "execution_count": 30,
   "metadata": {
    "execution": {
     "iopub.execute_input": "2022-01-30T13:08:07.977359Z",
     "iopub.status.busy": "2022-01-30T13:08:07.976768Z",
     "iopub.status.idle": "2022-01-30T13:08:07.983382Z",
     "shell.execute_reply": "2022-01-30T13:08:07.984122Z",
     "shell.execute_reply.started": "2022-01-30T13:01:07.885740Z"
    },
    "papermill": {
     "duration": 0.059182,
     "end_time": "2022-01-30T13:08:07.984322",
     "exception": false,
     "start_time": "2022-01-30T13:08:07.925140",
     "status": "completed"
    },
    "tags": []
   },
   "outputs": [
    {
     "name": "stdout",
     "output_type": "stream",
     "text": [
      "Accuracy obtained by Decision Tree Classifier model: 89.94611115579507\n"
     ]
    }
   ],
   "source": [
    "DecisionTreeClassifierScore=dtree.score(X_test,y_test)\n",
    "print(\"Accuracy obtained by Decision Tree Classifier model:\",DecisionTreeClassifierScore*100)\n",
    "\n"
   ]
  },
  {
   "cell_type": "markdown",
   "metadata": {
    "papermill": {
     "duration": 0.045654,
     "end_time": "2022-01-30T13:08:08.076614",
     "exception": false,
     "start_time": "2022-01-30T13:08:08.030960",
     "status": "completed"
    },
    "tags": []
   },
   "source": [
    "# 4. Random Forest Classifier"
   ]
  },
  {
   "cell_type": "code",
   "execution_count": 31,
   "metadata": {
    "execution": {
     "iopub.execute_input": "2022-01-30T13:08:08.171004Z",
     "iopub.status.busy": "2022-01-30T13:08:08.170388Z",
     "iopub.status.idle": "2022-01-30T13:08:13.102657Z",
     "shell.execute_reply": "2022-01-30T13:08:13.102117Z",
     "shell.execute_reply.started": "2022-01-30T13:01:07.901335Z"
    },
    "papermill": {
     "duration": 4.980083,
     "end_time": "2022-01-30T13:08:13.102788",
     "exception": false,
     "start_time": "2022-01-30T13:08:08.122705",
     "status": "completed"
    },
    "tags": []
   },
   "outputs": [
    {
     "data": {
      "text/plain": [
       "RandomForestClassifier()"
      ]
     },
     "execution_count": 31,
     "metadata": {},
     "output_type": "execute_result"
    }
   ],
   "source": [
    "from sklearn.ensemble import RandomForestClassifier\n",
    "rfc = RandomForestClassifier(n_estimators = 100)\n",
    "rfc.fit(X_train,y_train)\n"
   ]
  },
  {
   "cell_type": "code",
   "execution_count": 32,
   "metadata": {
    "execution": {
     "iopub.execute_input": "2022-01-30T13:08:13.202190Z",
     "iopub.status.busy": "2022-01-30T13:08:13.201504Z",
     "iopub.status.idle": "2022-01-30T13:08:13.224474Z",
     "shell.execute_reply": "2022-01-30T13:08:13.223950Z",
     "shell.execute_reply.started": "2022-01-30T13:01:13.005459Z"
    },
    "papermill": {
     "duration": 0.074366,
     "end_time": "2022-01-30T13:08:13.224604",
     "exception": false,
     "start_time": "2022-01-30T13:08:13.150238",
     "status": "completed"
    },
    "tags": []
   },
   "outputs": [
    {
     "name": "stdout",
     "output_type": "stream",
     "text": [
      "              precision    recall  f1-score   support\n",
      "\n",
      "           0       0.91      0.98      0.94     10938\n",
      "           1       0.66      0.33      0.44      1495\n",
      "\n",
      "    accuracy                           0.90     12433\n",
      "   macro avg       0.79      0.65      0.69     12433\n",
      "weighted avg       0.88      0.90      0.88     12433\n",
      "\n"
     ]
    }
   ],
   "source": [
    "print(classification_report(y_test, y_pred))"
   ]
  },
  {
   "cell_type": "code",
   "execution_count": 33,
   "metadata": {
    "execution": {
     "iopub.execute_input": "2022-01-30T13:08:13.320344Z",
     "iopub.status.busy": "2022-01-30T13:08:13.319763Z",
     "iopub.status.idle": "2022-01-30T13:08:13.614645Z",
     "shell.execute_reply": "2022-01-30T13:08:13.613899Z",
     "shell.execute_reply.started": "2022-01-30T13:01:13.035915Z"
    },
    "papermill": {
     "duration": 0.344176,
     "end_time": "2022-01-30T13:08:13.614811",
     "exception": false,
     "start_time": "2022-01-30T13:08:13.270635",
     "status": "completed"
    },
    "tags": []
   },
   "outputs": [
    {
     "name": "stdout",
     "output_type": "stream",
     "text": [
      "Accuracy obtained by Random Forest Classifier model: 91.96493203571141\n"
     ]
    }
   ],
   "source": [
    "RandomForestClassifierScore = rfc.score(X_test, y_test)\n",
    "print(\"Accuracy obtained by Random Forest Classifier model:\",RandomForestClassifierScore*100)\n"
   ]
  },
  {
   "cell_type": "markdown",
   "metadata": {
    "papermill": {
     "duration": 0.045928,
     "end_time": "2022-01-30T13:08:13.708671",
     "exception": false,
     "start_time": "2022-01-30T13:08:13.662743",
     "status": "completed"
    },
    "tags": []
   },
   "source": [
    "# 5. Gradient Boosting Classifier"
   ]
  },
  {
   "cell_type": "code",
   "execution_count": 34,
   "metadata": {
    "execution": {
     "iopub.execute_input": "2022-01-30T13:08:13.811528Z",
     "iopub.status.busy": "2022-01-30T13:08:13.810522Z",
     "iopub.status.idle": "2022-01-30T13:08:20.810986Z",
     "shell.execute_reply": "2022-01-30T13:08:20.810423Z",
     "shell.execute_reply.started": "2022-01-30T13:01:13.351408Z"
    },
    "papermill": {
     "duration": 7.056308,
     "end_time": "2022-01-30T13:08:20.811105",
     "exception": false,
     "start_time": "2022-01-30T13:08:13.754797",
     "status": "completed"
    },
    "tags": []
   },
   "outputs": [
    {
     "data": {
      "text/plain": [
       "GradientBoostingClassifier()"
      ]
     },
     "execution_count": 34,
     "metadata": {},
     "output_type": "execute_result"
    }
   ],
   "source": [
    "from sklearn.ensemble import GradientBoostingClassifier\n",
    "gb = GradientBoostingClassifier()\n",
    "gb.fit(X_train, y_train)\n"
   ]
  },
  {
   "cell_type": "code",
   "execution_count": 35,
   "metadata": {
    "execution": {
     "iopub.execute_input": "2022-01-30T13:08:20.908781Z",
     "iopub.status.busy": "2022-01-30T13:08:20.908134Z",
     "iopub.status.idle": "2022-01-30T13:08:20.922497Z",
     "shell.execute_reply": "2022-01-30T13:08:20.923011Z",
     "shell.execute_reply.started": "2022-01-30T13:01:20.452439Z"
    },
    "papermill": {
     "duration": 0.065444,
     "end_time": "2022-01-30T13:08:20.923150",
     "exception": false,
     "start_time": "2022-01-30T13:08:20.857706",
     "status": "completed"
    },
    "tags": []
   },
   "outputs": [
    {
     "name": "stdout",
     "output_type": "stream",
     "text": [
      "[[10686   252]\n",
      " [ 1000   495]]\n"
     ]
    }
   ],
   "source": [
    "print(confusion_matrix(y_test,y_pred))"
   ]
  },
  {
   "cell_type": "code",
   "execution_count": 36,
   "metadata": {
    "execution": {
     "iopub.execute_input": "2022-01-30T13:08:21.020182Z",
     "iopub.status.busy": "2022-01-30T13:08:21.019601Z",
     "iopub.status.idle": "2022-01-30T13:08:21.052050Z",
     "shell.execute_reply": "2022-01-30T13:08:21.052806Z",
     "shell.execute_reply.started": "2022-01-30T13:01:20.481297Z"
    },
    "papermill": {
     "duration": 0.083297,
     "end_time": "2022-01-30T13:08:21.053014",
     "exception": false,
     "start_time": "2022-01-30T13:08:20.969717",
     "status": "completed"
    },
    "tags": []
   },
   "outputs": [
    {
     "name": "stdout",
     "output_type": "stream",
     "text": [
      "Accuracy obtained by Gradient Boosting Classifier model: 90.61368937505027\n"
     ]
    }
   ],
   "source": [
    "GradientBoostingClassifierScore = gb.score(X_test,y_test)\n",
    "print(\"Accuracy obtained by Gradient Boosting Classifier model:\",GradientBoostingClassifierScore*100)\n"
   ]
  },
  {
   "cell_type": "markdown",
   "metadata": {
    "papermill": {
     "duration": 0.048986,
     "end_time": "2022-01-30T13:08:21.150732",
     "exception": false,
     "start_time": "2022-01-30T13:08:21.101746",
     "status": "completed"
    },
    "tags": []
   },
   "source": [
    "# 6. CatBoost Classifier"
   ]
  },
  {
   "cell_type": "code",
   "execution_count": 37,
   "metadata": {
    "execution": {
     "iopub.execute_input": "2022-01-30T13:08:21.249449Z",
     "iopub.status.busy": "2022-01-30T13:08:21.248868Z",
     "iopub.status.idle": "2022-01-30T13:08:21.732821Z",
     "shell.execute_reply": "2022-01-30T13:08:21.732036Z",
     "shell.execute_reply.started": "2022-01-30T13:01:20.515587Z"
    },
    "papermill": {
     "duration": 0.534684,
     "end_time": "2022-01-30T13:08:21.732995",
     "exception": false,
     "start_time": "2022-01-30T13:08:21.198311",
     "status": "completed"
    },
    "tags": []
   },
   "outputs": [
    {
     "name": "stdout",
     "output_type": "stream",
     "text": [
      "Learning rate set to 0.5\n",
      "0:\tlearn: 0.3385600\ttotal: 70.4ms\tremaining: 633ms\n",
      "1:\tlearn: 0.2583955\ttotal: 84.4ms\tremaining: 338ms\n",
      "2:\tlearn: 0.2402876\ttotal: 97.6ms\tremaining: 228ms\n",
      "3:\tlearn: 0.2343105\ttotal: 110ms\tremaining: 165ms\n",
      "4:\tlearn: 0.2265305\ttotal: 125ms\tremaining: 125ms\n",
      "5:\tlearn: 0.2191225\ttotal: 137ms\tremaining: 91.5ms\n",
      "6:\tlearn: 0.2158382\ttotal: 151ms\tremaining: 64.9ms\n",
      "7:\tlearn: 0.2141248\ttotal: 165ms\tremaining: 41.3ms\n",
      "8:\tlearn: 0.2122536\ttotal: 178ms\tremaining: 19.8ms\n",
      "9:\tlearn: 0.2077817\ttotal: 194ms\tremaining: 0us\n"
     ]
    }
   ],
   "source": [
    "from catboost import CatBoostClassifier\n",
    "cat = CatBoostClassifier(iterations=10)\n",
    "cat.fit(X_train, y_train);\n"
   ]
  },
  {
   "cell_type": "code",
   "execution_count": 38,
   "metadata": {
    "execution": {
     "iopub.execute_input": "2022-01-30T13:08:21.836810Z",
     "iopub.status.busy": "2022-01-30T13:08:21.835786Z",
     "iopub.status.idle": "2022-01-30T13:08:21.859699Z",
     "shell.execute_reply": "2022-01-30T13:08:21.859060Z",
     "shell.execute_reply.started": "2022-01-30T13:01:20.755122Z"
    },
    "papermill": {
     "duration": 0.077029,
     "end_time": "2022-01-30T13:08:21.859815",
     "exception": false,
     "start_time": "2022-01-30T13:08:21.782786",
     "status": "completed"
    },
    "tags": []
   },
   "outputs": [
    {
     "name": "stdout",
     "output_type": "stream",
     "text": [
      "              precision    recall  f1-score   support\n",
      "\n",
      "           0       0.90      0.99      0.94     10938\n",
      "           1       0.66      0.19      0.30      1495\n",
      "\n",
      "    accuracy                           0.89     12433\n",
      "   macro avg       0.78      0.59      0.62     12433\n",
      "weighted avg       0.87      0.89      0.86     12433\n",
      "\n"
     ]
    }
   ],
   "source": [
    "print(classification_report(y_test, y_pred_svc))"
   ]
  },
  {
   "cell_type": "code",
   "execution_count": 39,
   "metadata": {
    "execution": {
     "iopub.execute_input": "2022-01-30T13:08:21.965705Z",
     "iopub.status.busy": "2022-01-30T13:08:21.964957Z",
     "iopub.status.idle": "2022-01-30T13:08:21.978011Z",
     "shell.execute_reply": "2022-01-30T13:08:21.977248Z",
     "shell.execute_reply.started": "2022-01-30T13:01:20.782338Z"
    },
    "papermill": {
     "duration": 0.070095,
     "end_time": "2022-01-30T13:08:21.978178",
     "exception": false,
     "start_time": "2022-01-30T13:08:21.908083",
     "status": "completed"
    },
    "tags": []
   },
   "outputs": [
    {
     "name": "stdout",
     "output_type": "stream",
     "text": [
      "Accuracy obtained by CatBoost Classifier model: 90.541301375372\n"
     ]
    }
   ],
   "source": [
    "CatBoostClassifierScore = cat.score(X_test,y_test)\n",
    "print(\"Accuracy obtained by CatBoost Classifier model:\",CatBoostClassifierScore*100)\n"
   ]
  },
  {
   "cell_type": "code",
   "execution_count": 40,
   "metadata": {
    "execution": {
     "iopub.execute_input": "2022-01-30T13:08:22.083441Z",
     "iopub.status.busy": "2022-01-30T13:08:22.082731Z",
     "iopub.status.idle": "2022-01-30T13:08:22.097541Z",
     "shell.execute_reply": "2022-01-30T13:08:22.096948Z",
     "shell.execute_reply.started": "2022-01-30T13:01:20.802217Z"
    },
    "papermill": {
     "duration": 0.069554,
     "end_time": "2022-01-30T13:08:22.097693",
     "exception": false,
     "start_time": "2022-01-30T13:08:22.028139",
     "status": "completed"
    },
    "tags": []
   },
   "outputs": [
    {
     "data": {
      "text/html": [
       "<div>\n",
       "<style scoped>\n",
       "    .dataframe tbody tr th:only-of-type {\n",
       "        vertical-align: middle;\n",
       "    }\n",
       "\n",
       "    .dataframe tbody tr th {\n",
       "        vertical-align: top;\n",
       "    }\n",
       "\n",
       "    .dataframe thead th {\n",
       "        text-align: right;\n",
       "    }\n",
       "</style>\n",
       "<table border=\"1\" class=\"dataframe\">\n",
       "  <thead>\n",
       "    <tr style=\"text-align: right;\">\n",
       "      <th></th>\n",
       "      <th>Actual</th>\n",
       "      <th>Predicted</th>\n",
       "    </tr>\n",
       "  </thead>\n",
       "  <tbody>\n",
       "    <tr>\n",
       "      <th>0</th>\n",
       "      <td>0</td>\n",
       "      <td>0</td>\n",
       "    </tr>\n",
       "    <tr>\n",
       "      <th>1</th>\n",
       "      <td>1</td>\n",
       "      <td>0</td>\n",
       "    </tr>\n",
       "    <tr>\n",
       "      <th>2</th>\n",
       "      <td>0</td>\n",
       "      <td>0</td>\n",
       "    </tr>\n",
       "    <tr>\n",
       "      <th>3</th>\n",
       "      <td>0</td>\n",
       "      <td>0</td>\n",
       "    </tr>\n",
       "    <tr>\n",
       "      <th>4</th>\n",
       "      <td>0</td>\n",
       "      <td>0</td>\n",
       "    </tr>\n",
       "    <tr>\n",
       "      <th>...</th>\n",
       "      <td>...</td>\n",
       "      <td>...</td>\n",
       "    </tr>\n",
       "    <tr>\n",
       "      <th>12428</th>\n",
       "      <td>0</td>\n",
       "      <td>0</td>\n",
       "    </tr>\n",
       "    <tr>\n",
       "      <th>12429</th>\n",
       "      <td>0</td>\n",
       "      <td>0</td>\n",
       "    </tr>\n",
       "    <tr>\n",
       "      <th>12430</th>\n",
       "      <td>0</td>\n",
       "      <td>0</td>\n",
       "    </tr>\n",
       "    <tr>\n",
       "      <th>12431</th>\n",
       "      <td>0</td>\n",
       "      <td>0</td>\n",
       "    </tr>\n",
       "    <tr>\n",
       "      <th>12432</th>\n",
       "      <td>0</td>\n",
       "      <td>0</td>\n",
       "    </tr>\n",
       "  </tbody>\n",
       "</table>\n",
       "<p>12433 rows × 2 columns</p>\n",
       "</div>"
      ],
      "text/plain": [
       "       Actual  Predicted\n",
       "0           0          0\n",
       "1           1          0\n",
       "2           0          0\n",
       "3           0          0\n",
       "4           0          0\n",
       "...       ...        ...\n",
       "12428       0          0\n",
       "12429       0          0\n",
       "12430       0          0\n",
       "12431       0          0\n",
       "12432       0          0\n",
       "\n",
       "[12433 rows x 2 columns]"
      ]
     },
     "execution_count": 40,
     "metadata": {},
     "output_type": "execute_result"
    }
   ],
   "source": [
    "y_pred=cat.predict(X_test)\n",
    "data = pd.DataFrame({'Actual': y_test, 'Predicted': y_pred})\n",
    "data\n"
   ]
  },
  {
   "cell_type": "markdown",
   "metadata": {
    "papermill": {
     "duration": 0.048595,
     "end_time": "2022-01-30T13:08:22.195420",
     "exception": false,
     "start_time": "2022-01-30T13:08:22.146825",
     "status": "completed"
    },
    "tags": []
   },
   "source": [
    "**CONCLUSION :**\n",
    "\n",
    "**We got a good accuracy score of about 91.96 % using Random Forest Classifier and 90.6 % using Gradient Boosting Classifier.**\n",
    "\n",
    "**Thank you**"
   ]
  }
 ],
 "metadata": {
  "kernelspec": {
   "display_name": "Python 3",
   "language": "python",
   "name": "python3"
  },
  "language_info": {
   "codemirror_mode": {
    "name": "ipython",
    "version": 3
   },
   "file_extension": ".py",
   "mimetype": "text/x-python",
   "name": "python",
   "nbconvert_exporter": "python",
   "pygments_lexer": "ipython3",
   "version": "3.9.5"
  },
  "papermill": {
   "duration": 59.025181,
   "end_time": "2022-01-30T13:08:22.354163",
   "environment_variables": {},
   "exception": null,
   "input_path": "__notebook__.ipynb",
   "output_path": "__notebook__.ipynb",
   "parameters": {},
   "start_time": "2022-01-30T13:07:23.328982",
   "version": "2.1.0"
  }
 },
 "nbformat": 4,
 "nbformat_minor": 4
}
